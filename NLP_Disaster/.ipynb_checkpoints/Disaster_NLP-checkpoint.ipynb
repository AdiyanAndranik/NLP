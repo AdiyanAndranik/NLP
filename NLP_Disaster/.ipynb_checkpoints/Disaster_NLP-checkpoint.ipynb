{
 "cells": [
  {
   "cell_type": "code",
   "execution_count": 1,
   "id": "7368661a-afb9-44a7-aa81-733c99cc6020",
   "metadata": {},
   "outputs": [],
   "source": [
    "import numpy as np\n",
    "import pandas as pd\n",
    "import matplotlib.pyplot as plt\n",
    "import seaborn as sns"
   ]
  },
  {
   "cell_type": "code",
   "execution_count": 2,
   "id": "b112d9a6-4336-4592-abed-73edb62e303f",
   "metadata": {},
   "outputs": [],
   "source": [
    "df_train = pd.read_csv('train.csv')\n",
    "df_test = pd.read_csv('test.csv')"
   ]
  },
  {
   "cell_type": "code",
   "execution_count": 3,
   "id": "a42f813d-f186-4c6f-8329-54667bc97a98",
   "metadata": {},
   "outputs": [
    {
     "data": {
      "text/html": [
       "<div>\n",
       "<style scoped>\n",
       "    .dataframe tbody tr th:only-of-type {\n",
       "        vertical-align: middle;\n",
       "    }\n",
       "\n",
       "    .dataframe tbody tr th {\n",
       "        vertical-align: top;\n",
       "    }\n",
       "\n",
       "    .dataframe thead th {\n",
       "        text-align: right;\n",
       "    }\n",
       "</style>\n",
       "<table border=\"1\" class=\"dataframe\">\n",
       "  <thead>\n",
       "    <tr style=\"text-align: right;\">\n",
       "      <th></th>\n",
       "      <th>id</th>\n",
       "      <th>keyword</th>\n",
       "      <th>location</th>\n",
       "      <th>text</th>\n",
       "      <th>target</th>\n",
       "    </tr>\n",
       "  </thead>\n",
       "  <tbody>\n",
       "    <tr>\n",
       "      <th>0</th>\n",
       "      <td>1</td>\n",
       "      <td>NaN</td>\n",
       "      <td>NaN</td>\n",
       "      <td>Our Deeds are the Reason of this #earthquake M...</td>\n",
       "      <td>1</td>\n",
       "    </tr>\n",
       "    <tr>\n",
       "      <th>1</th>\n",
       "      <td>4</td>\n",
       "      <td>NaN</td>\n",
       "      <td>NaN</td>\n",
       "      <td>Forest fire near La Ronge Sask. Canada</td>\n",
       "      <td>1</td>\n",
       "    </tr>\n",
       "    <tr>\n",
       "      <th>2</th>\n",
       "      <td>5</td>\n",
       "      <td>NaN</td>\n",
       "      <td>NaN</td>\n",
       "      <td>All residents asked to 'shelter in place' are ...</td>\n",
       "      <td>1</td>\n",
       "    </tr>\n",
       "    <tr>\n",
       "      <th>3</th>\n",
       "      <td>6</td>\n",
       "      <td>NaN</td>\n",
       "      <td>NaN</td>\n",
       "      <td>13,000 people receive #wildfires evacuation or...</td>\n",
       "      <td>1</td>\n",
       "    </tr>\n",
       "    <tr>\n",
       "      <th>4</th>\n",
       "      <td>7</td>\n",
       "      <td>NaN</td>\n",
       "      <td>NaN</td>\n",
       "      <td>Just got sent this photo from Ruby #Alaska as ...</td>\n",
       "      <td>1</td>\n",
       "    </tr>\n",
       "    <tr>\n",
       "      <th>...</th>\n",
       "      <td>...</td>\n",
       "      <td>...</td>\n",
       "      <td>...</td>\n",
       "      <td>...</td>\n",
       "      <td>...</td>\n",
       "    </tr>\n",
       "    <tr>\n",
       "      <th>7608</th>\n",
       "      <td>10869</td>\n",
       "      <td>NaN</td>\n",
       "      <td>NaN</td>\n",
       "      <td>Two giant cranes holding a bridge collapse int...</td>\n",
       "      <td>1</td>\n",
       "    </tr>\n",
       "    <tr>\n",
       "      <th>7609</th>\n",
       "      <td>10870</td>\n",
       "      <td>NaN</td>\n",
       "      <td>NaN</td>\n",
       "      <td>@aria_ahrary @TheTawniest The out of control w...</td>\n",
       "      <td>1</td>\n",
       "    </tr>\n",
       "    <tr>\n",
       "      <th>7610</th>\n",
       "      <td>10871</td>\n",
       "      <td>NaN</td>\n",
       "      <td>NaN</td>\n",
       "      <td>M1.94 [01:04 UTC]?5km S of Volcano Hawaii. htt...</td>\n",
       "      <td>1</td>\n",
       "    </tr>\n",
       "    <tr>\n",
       "      <th>7611</th>\n",
       "      <td>10872</td>\n",
       "      <td>NaN</td>\n",
       "      <td>NaN</td>\n",
       "      <td>Police investigating after an e-bike collided ...</td>\n",
       "      <td>1</td>\n",
       "    </tr>\n",
       "    <tr>\n",
       "      <th>7612</th>\n",
       "      <td>10873</td>\n",
       "      <td>NaN</td>\n",
       "      <td>NaN</td>\n",
       "      <td>The Latest: More Homes Razed by Northern Calif...</td>\n",
       "      <td>1</td>\n",
       "    </tr>\n",
       "  </tbody>\n",
       "</table>\n",
       "<p>7613 rows × 5 columns</p>\n",
       "</div>"
      ],
      "text/plain": [
       "         id keyword location   \n",
       "0         1     NaN      NaN  \\\n",
       "1         4     NaN      NaN   \n",
       "2         5     NaN      NaN   \n",
       "3         6     NaN      NaN   \n",
       "4         7     NaN      NaN   \n",
       "...     ...     ...      ...   \n",
       "7608  10869     NaN      NaN   \n",
       "7609  10870     NaN      NaN   \n",
       "7610  10871     NaN      NaN   \n",
       "7611  10872     NaN      NaN   \n",
       "7612  10873     NaN      NaN   \n",
       "\n",
       "                                                   text  target  \n",
       "0     Our Deeds are the Reason of this #earthquake M...       1  \n",
       "1                Forest fire near La Ronge Sask. Canada       1  \n",
       "2     All residents asked to 'shelter in place' are ...       1  \n",
       "3     13,000 people receive #wildfires evacuation or...       1  \n",
       "4     Just got sent this photo from Ruby #Alaska as ...       1  \n",
       "...                                                 ...     ...  \n",
       "7608  Two giant cranes holding a bridge collapse int...       1  \n",
       "7609  @aria_ahrary @TheTawniest The out of control w...       1  \n",
       "7610  M1.94 [01:04 UTC]?5km S of Volcano Hawaii. htt...       1  \n",
       "7611  Police investigating after an e-bike collided ...       1  \n",
       "7612  The Latest: More Homes Razed by Northern Calif...       1  \n",
       "\n",
       "[7613 rows x 5 columns]"
      ]
     },
     "execution_count": 3,
     "metadata": {},
     "output_type": "execute_result"
    }
   ],
   "source": [
    "df_train"
   ]
  },
  {
   "cell_type": "code",
   "execution_count": 4,
   "id": "2b510edb-7a71-46e4-9b31-fcc4976ced86",
   "metadata": {},
   "outputs": [
    {
     "data": {
      "text/plain": [
       "id             0\n",
       "keyword       61\n",
       "location    2533\n",
       "text           0\n",
       "target         0\n",
       "dtype: int64"
      ]
     },
     "execution_count": 4,
     "metadata": {},
     "output_type": "execute_result"
    }
   ],
   "source": [
    "df_train.isna().sum()"
   ]
  },
  {
   "cell_type": "code",
   "execution_count": 5,
   "id": "06645f90-c966-42c2-b61b-8f494a9a54ac",
   "metadata": {},
   "outputs": [
    {
     "data": {
      "text/plain": [
       "array([nan, 'ablaze', 'accident', 'aftershock', 'airplane%20accident',\n",
       "       'ambulance', 'annihilated', 'annihilation', 'apocalypse',\n",
       "       'armageddon', 'army', 'arson', 'arsonist', 'attack', 'attacked',\n",
       "       'avalanche', 'battle', 'bioterror', 'bioterrorism', 'blaze',\n",
       "       'blazing', 'bleeding', 'blew%20up', 'blight', 'blizzard', 'blood',\n",
       "       'bloody', 'blown%20up', 'body%20bag', 'body%20bagging',\n",
       "       'body%20bags', 'bomb', 'bombed', 'bombing', 'bridge%20collapse',\n",
       "       'buildings%20burning', 'buildings%20on%20fire', 'burned',\n",
       "       'burning', 'burning%20buildings', 'bush%20fires', 'casualties',\n",
       "       'casualty', 'catastrophe', 'catastrophic', 'chemical%20emergency',\n",
       "       'cliff%20fall', 'collapse', 'collapsed', 'collide', 'collided',\n",
       "       'collision', 'crash', 'crashed', 'crush', 'crushed', 'curfew',\n",
       "       'cyclone', 'damage', 'danger', 'dead', 'death', 'deaths', 'debris',\n",
       "       'deluge', 'deluged', 'demolish', 'demolished', 'demolition',\n",
       "       'derail', 'derailed', 'derailment', 'desolate', 'desolation',\n",
       "       'destroy', 'destroyed', 'destruction', 'detonate', 'detonation',\n",
       "       'devastated', 'devastation', 'disaster', 'displaced', 'drought',\n",
       "       'drown', 'drowned', 'drowning', 'dust%20storm', 'earthquake',\n",
       "       'electrocute', 'electrocuted', 'emergency', 'emergency%20plan',\n",
       "       'emergency%20services', 'engulfed', 'epicentre', 'evacuate',\n",
       "       'evacuated', 'evacuation', 'explode', 'exploded', 'explosion',\n",
       "       'eyewitness', 'famine', 'fatal', 'fatalities', 'fatality', 'fear',\n",
       "       'fire', 'fire%20truck', 'first%20responders', 'flames',\n",
       "       'flattened', 'flood', 'flooding', 'floods', 'forest%20fire',\n",
       "       'forest%20fires', 'hail', 'hailstorm', 'harm', 'hazard',\n",
       "       'hazardous', 'heat%20wave', 'hellfire', 'hijack', 'hijacker',\n",
       "       'hijacking', 'hostage', 'hostages', 'hurricane', 'injured',\n",
       "       'injuries', 'injury', 'inundated', 'inundation', 'landslide',\n",
       "       'lava', 'lightning', 'loud%20bang', 'mass%20murder',\n",
       "       'mass%20murderer', 'massacre', 'mayhem', 'meltdown', 'military',\n",
       "       'mudslide', 'natural%20disaster', 'nuclear%20disaster',\n",
       "       'nuclear%20reactor', 'obliterate', 'obliterated', 'obliteration',\n",
       "       'oil%20spill', 'outbreak', 'pandemonium', 'panic', 'panicking',\n",
       "       'police', 'quarantine', 'quarantined', 'radiation%20emergency',\n",
       "       'rainstorm', 'razed', 'refugees', 'rescue', 'rescued', 'rescuers',\n",
       "       'riot', 'rioting', 'rubble', 'ruin', 'sandstorm', 'screamed',\n",
       "       'screaming', 'screams', 'seismic', 'sinkhole', 'sinking', 'siren',\n",
       "       'sirens', 'smoke', 'snowstorm', 'storm', 'stretcher',\n",
       "       'structural%20failure', 'suicide%20bomb', 'suicide%20bomber',\n",
       "       'suicide%20bombing', 'sunk', 'survive', 'survived', 'survivors',\n",
       "       'terrorism', 'terrorist', 'threat', 'thunder', 'thunderstorm',\n",
       "       'tornado', 'tragedy', 'trapped', 'trauma', 'traumatised',\n",
       "       'trouble', 'tsunami', 'twister', 'typhoon', 'upheaval',\n",
       "       'violent%20storm', 'volcano', 'war%20zone', 'weapon', 'weapons',\n",
       "       'whirlwind', 'wild%20fires', 'wildfire', 'windstorm', 'wounded',\n",
       "       'wounds', 'wreck', 'wreckage', 'wrecked'], dtype=object)"
      ]
     },
     "execution_count": 5,
     "metadata": {},
     "output_type": "execute_result"
    }
   ],
   "source": [
    "df_train['keyword'].unique()"
   ]
  },
  {
   "cell_type": "code",
   "execution_count": 6,
   "id": "94c9cbdb-8cb8-4a83-9531-8ea550af3222",
   "metadata": {},
   "outputs": [],
   "source": [
    "df_train = df_train.drop(['keyword','location', 'id'], axis = 1)"
   ]
  },
  {
   "cell_type": "code",
   "execution_count": 7,
   "id": "4fbce79c-e4de-413b-8f88-bd534a991288",
   "metadata": {},
   "outputs": [
    {
     "data": {
      "text/html": [
       "<div>\n",
       "<style scoped>\n",
       "    .dataframe tbody tr th:only-of-type {\n",
       "        vertical-align: middle;\n",
       "    }\n",
       "\n",
       "    .dataframe tbody tr th {\n",
       "        vertical-align: top;\n",
       "    }\n",
       "\n",
       "    .dataframe thead th {\n",
       "        text-align: right;\n",
       "    }\n",
       "</style>\n",
       "<table border=\"1\" class=\"dataframe\">\n",
       "  <thead>\n",
       "    <tr style=\"text-align: right;\">\n",
       "      <th></th>\n",
       "      <th>text</th>\n",
       "      <th>target</th>\n",
       "    </tr>\n",
       "  </thead>\n",
       "  <tbody>\n",
       "    <tr>\n",
       "      <th>0</th>\n",
       "      <td>Our Deeds are the Reason of this #earthquake M...</td>\n",
       "      <td>1</td>\n",
       "    </tr>\n",
       "    <tr>\n",
       "      <th>1</th>\n",
       "      <td>Forest fire near La Ronge Sask. Canada</td>\n",
       "      <td>1</td>\n",
       "    </tr>\n",
       "    <tr>\n",
       "      <th>2</th>\n",
       "      <td>All residents asked to 'shelter in place' are ...</td>\n",
       "      <td>1</td>\n",
       "    </tr>\n",
       "    <tr>\n",
       "      <th>3</th>\n",
       "      <td>13,000 people receive #wildfires evacuation or...</td>\n",
       "      <td>1</td>\n",
       "    </tr>\n",
       "    <tr>\n",
       "      <th>4</th>\n",
       "      <td>Just got sent this photo from Ruby #Alaska as ...</td>\n",
       "      <td>1</td>\n",
       "    </tr>\n",
       "    <tr>\n",
       "      <th>...</th>\n",
       "      <td>...</td>\n",
       "      <td>...</td>\n",
       "    </tr>\n",
       "    <tr>\n",
       "      <th>7608</th>\n",
       "      <td>Two giant cranes holding a bridge collapse int...</td>\n",
       "      <td>1</td>\n",
       "    </tr>\n",
       "    <tr>\n",
       "      <th>7609</th>\n",
       "      <td>@aria_ahrary @TheTawniest The out of control w...</td>\n",
       "      <td>1</td>\n",
       "    </tr>\n",
       "    <tr>\n",
       "      <th>7610</th>\n",
       "      <td>M1.94 [01:04 UTC]?5km S of Volcano Hawaii. htt...</td>\n",
       "      <td>1</td>\n",
       "    </tr>\n",
       "    <tr>\n",
       "      <th>7611</th>\n",
       "      <td>Police investigating after an e-bike collided ...</td>\n",
       "      <td>1</td>\n",
       "    </tr>\n",
       "    <tr>\n",
       "      <th>7612</th>\n",
       "      <td>The Latest: More Homes Razed by Northern Calif...</td>\n",
       "      <td>1</td>\n",
       "    </tr>\n",
       "  </tbody>\n",
       "</table>\n",
       "<p>7613 rows × 2 columns</p>\n",
       "</div>"
      ],
      "text/plain": [
       "                                                   text  target\n",
       "0     Our Deeds are the Reason of this #earthquake M...       1\n",
       "1                Forest fire near La Ronge Sask. Canada       1\n",
       "2     All residents asked to 'shelter in place' are ...       1\n",
       "3     13,000 people receive #wildfires evacuation or...       1\n",
       "4     Just got sent this photo from Ruby #Alaska as ...       1\n",
       "...                                                 ...     ...\n",
       "7608  Two giant cranes holding a bridge collapse int...       1\n",
       "7609  @aria_ahrary @TheTawniest The out of control w...       1\n",
       "7610  M1.94 [01:04 UTC]?5km S of Volcano Hawaii. htt...       1\n",
       "7611  Police investigating after an e-bike collided ...       1\n",
       "7612  The Latest: More Homes Razed by Northern Calif...       1\n",
       "\n",
       "[7613 rows x 2 columns]"
      ]
     },
     "execution_count": 7,
     "metadata": {},
     "output_type": "execute_result"
    }
   ],
   "source": [
    "df_train"
   ]
  },
  {
   "cell_type": "code",
   "execution_count": 8,
   "id": "cb4c7bbf-2407-4a23-b38e-9756726ba9fc",
   "metadata": {},
   "outputs": [
    {
     "data": {
      "text/html": [
       "<div>\n",
       "<style scoped>\n",
       "    .dataframe tbody tr th:only-of-type {\n",
       "        vertical-align: middle;\n",
       "    }\n",
       "\n",
       "    .dataframe tbody tr th {\n",
       "        vertical-align: top;\n",
       "    }\n",
       "\n",
       "    .dataframe thead th {\n",
       "        text-align: right;\n",
       "    }\n",
       "</style>\n",
       "<table border=\"1\" class=\"dataframe\">\n",
       "  <thead>\n",
       "    <tr style=\"text-align: right;\">\n",
       "      <th></th>\n",
       "      <th>id</th>\n",
       "      <th>keyword</th>\n",
       "      <th>location</th>\n",
       "      <th>text</th>\n",
       "    </tr>\n",
       "  </thead>\n",
       "  <tbody>\n",
       "    <tr>\n",
       "      <th>0</th>\n",
       "      <td>0</td>\n",
       "      <td>NaN</td>\n",
       "      <td>NaN</td>\n",
       "      <td>Just happened a terrible car crash</td>\n",
       "    </tr>\n",
       "    <tr>\n",
       "      <th>1</th>\n",
       "      <td>2</td>\n",
       "      <td>NaN</td>\n",
       "      <td>NaN</td>\n",
       "      <td>Heard about #earthquake is different cities, s...</td>\n",
       "    </tr>\n",
       "    <tr>\n",
       "      <th>2</th>\n",
       "      <td>3</td>\n",
       "      <td>NaN</td>\n",
       "      <td>NaN</td>\n",
       "      <td>there is a forest fire at spot pond, geese are...</td>\n",
       "    </tr>\n",
       "    <tr>\n",
       "      <th>3</th>\n",
       "      <td>9</td>\n",
       "      <td>NaN</td>\n",
       "      <td>NaN</td>\n",
       "      <td>Apocalypse lighting. #Spokane #wildfires</td>\n",
       "    </tr>\n",
       "    <tr>\n",
       "      <th>4</th>\n",
       "      <td>11</td>\n",
       "      <td>NaN</td>\n",
       "      <td>NaN</td>\n",
       "      <td>Typhoon Soudelor kills 28 in China and Taiwan</td>\n",
       "    </tr>\n",
       "    <tr>\n",
       "      <th>...</th>\n",
       "      <td>...</td>\n",
       "      <td>...</td>\n",
       "      <td>...</td>\n",
       "      <td>...</td>\n",
       "    </tr>\n",
       "    <tr>\n",
       "      <th>3258</th>\n",
       "      <td>10861</td>\n",
       "      <td>NaN</td>\n",
       "      <td>NaN</td>\n",
       "      <td>EARTHQUAKE SAFETY LOS ANGELES ÛÒ SAFETY FASTE...</td>\n",
       "    </tr>\n",
       "    <tr>\n",
       "      <th>3259</th>\n",
       "      <td>10865</td>\n",
       "      <td>NaN</td>\n",
       "      <td>NaN</td>\n",
       "      <td>Storm in RI worse than last hurricane. My city...</td>\n",
       "    </tr>\n",
       "    <tr>\n",
       "      <th>3260</th>\n",
       "      <td>10868</td>\n",
       "      <td>NaN</td>\n",
       "      <td>NaN</td>\n",
       "      <td>Green Line derailment in Chicago http://t.co/U...</td>\n",
       "    </tr>\n",
       "    <tr>\n",
       "      <th>3261</th>\n",
       "      <td>10874</td>\n",
       "      <td>NaN</td>\n",
       "      <td>NaN</td>\n",
       "      <td>MEG issues Hazardous Weather Outlook (HWO) htt...</td>\n",
       "    </tr>\n",
       "    <tr>\n",
       "      <th>3262</th>\n",
       "      <td>10875</td>\n",
       "      <td>NaN</td>\n",
       "      <td>NaN</td>\n",
       "      <td>#CityofCalgary has activated its Municipal Eme...</td>\n",
       "    </tr>\n",
       "  </tbody>\n",
       "</table>\n",
       "<p>3263 rows × 4 columns</p>\n",
       "</div>"
      ],
      "text/plain": [
       "         id keyword location   \n",
       "0         0     NaN      NaN  \\\n",
       "1         2     NaN      NaN   \n",
       "2         3     NaN      NaN   \n",
       "3         9     NaN      NaN   \n",
       "4        11     NaN      NaN   \n",
       "...     ...     ...      ...   \n",
       "3258  10861     NaN      NaN   \n",
       "3259  10865     NaN      NaN   \n",
       "3260  10868     NaN      NaN   \n",
       "3261  10874     NaN      NaN   \n",
       "3262  10875     NaN      NaN   \n",
       "\n",
       "                                                   text  \n",
       "0                    Just happened a terrible car crash  \n",
       "1     Heard about #earthquake is different cities, s...  \n",
       "2     there is a forest fire at spot pond, geese are...  \n",
       "3              Apocalypse lighting. #Spokane #wildfires  \n",
       "4         Typhoon Soudelor kills 28 in China and Taiwan  \n",
       "...                                                 ...  \n",
       "3258  EARTHQUAKE SAFETY LOS ANGELES ÛÒ SAFETY FASTE...  \n",
       "3259  Storm in RI worse than last hurricane. My city...  \n",
       "3260  Green Line derailment in Chicago http://t.co/U...  \n",
       "3261  MEG issues Hazardous Weather Outlook (HWO) htt...  \n",
       "3262  #CityofCalgary has activated its Municipal Eme...  \n",
       "\n",
       "[3263 rows x 4 columns]"
      ]
     },
     "execution_count": 8,
     "metadata": {},
     "output_type": "execute_result"
    }
   ],
   "source": [
    "df_test"
   ]
  },
  {
   "cell_type": "code",
   "execution_count": 9,
   "id": "ef86c3b5-189c-4264-9e23-340ac0149e73",
   "metadata": {},
   "outputs": [],
   "source": [
    "df_test = df_test.drop(['keyword','location', 'id'], axis = 1)"
   ]
  },
  {
   "cell_type": "code",
   "execution_count": 10,
   "id": "1da0af83-2349-4c3b-b979-f89f889ac7f4",
   "metadata": {},
   "outputs": [
    {
     "name": "stdout",
     "output_type": "stream",
     "text": [
      "<class 'pandas.core.frame.DataFrame'>\n",
      "RangeIndex: 7613 entries, 0 to 7612\n",
      "Data columns (total 2 columns):\n",
      " #   Column  Non-Null Count  Dtype \n",
      "---  ------  --------------  ----- \n",
      " 0   text    7613 non-null   object\n",
      " 1   target  7613 non-null   int64 \n",
      "dtypes: int64(1), object(1)\n",
      "memory usage: 119.1+ KB\n"
     ]
    }
   ],
   "source": [
    "df_train.info()"
   ]
  },
  {
   "cell_type": "code",
   "execution_count": 11,
   "id": "13cfa21f-9f3f-49fe-975c-4f736b4a7279",
   "metadata": {},
   "outputs": [
    {
     "name": "stdout",
     "output_type": "stream",
     "text": [
      "<class 'pandas.core.frame.DataFrame'>\n",
      "RangeIndex: 3263 entries, 0 to 3262\n",
      "Data columns (total 1 columns):\n",
      " #   Column  Non-Null Count  Dtype \n",
      "---  ------  --------------  ----- \n",
      " 0   text    3263 non-null   object\n",
      "dtypes: object(1)\n",
      "memory usage: 25.6+ KB\n"
     ]
    }
   ],
   "source": [
    "df_test.info()"
   ]
  },
  {
   "cell_type": "code",
   "execution_count": 12,
   "id": "1376b518-b3f0-4d54-8161-6391bfd40e11",
   "metadata": {},
   "outputs": [],
   "source": [
    "from sklearn.feature_extraction.text import CountVectorizer"
   ]
  },
  {
   "cell_type": "code",
   "execution_count": 13,
   "id": "4db44bab-09cf-46a3-b799-831e6db316a1",
   "metadata": {},
   "outputs": [],
   "source": [
    "cv = CountVectorizer(stop_words='english')"
   ]
  },
  {
   "cell_type": "code",
   "execution_count": 14,
   "id": "9f8576a6-e5c6-4bbd-a467-4ca3de3bfe58",
   "metadata": {},
   "outputs": [
    {
     "name": "stdout",
     "output_type": "stream",
     "text": [
      "Top 20 words for disaster\n",
      "[('http', 2382), ('û_', 172), ('news', 140), ('amp', 135), ('https', 134), ('disaster', 121), ('california', 115), ('suicide', 112), ('police', 109), ('people', 105), ('killed', 95), ('like', 94), ('hiroshima', 92), ('just', 89), ('storm', 89), ('fires', 86), ('crash', 85), ('families', 81), ('train', 79), ('emergency', 77)]\n"
     ]
    }
   ],
   "source": [
    "import warnings\n",
    "warnings.filterwarnings('ignore')\n",
    "matrix = cv.fit_transform(df_train[df_train['target']==1]['text'])\n",
    "freqs = zip(cv.get_feature_names(), matrix.sum(axis=0).tolist()[0])    \n",
    "\n",
    "print(\"Top 20 words for disaster\")\n",
    "print(sorted(freqs, key=lambda x: -x[1])[:20])"
   ]
  },
  {
   "cell_type": "code",
   "execution_count": 15,
   "id": "7e1e5144-c90c-44fd-b6d8-c30d2253df65",
   "metadata": {},
   "outputs": [
    {
     "name": "stdout",
     "output_type": "stream",
     "text": [
      "Top 20 words used for no disaster.\n",
      "[('http', 1927), ('https', 277), ('like', 254), ('just', 234), ('amp', 209), ('û_', 176), ('new', 170), ('don', 138), ('body', 116), ('video', 96), ('people', 95), ('love', 90), ('day', 86), ('know', 86), ('time', 85), ('got', 84), ('emergency', 81), ('going', 76), ('let', 76), ('youtube', 76)]\n"
     ]
    }
   ],
   "source": [
    "matrix = cv.fit_transform(df_train[df_train['target']==0]['text'])\n",
    "freqs = zip(cv.get_feature_names(), matrix.sum(axis=0).tolist()[0])    \n",
    "\n",
    "print(\"Top 20 words used for no disaster.\")\n",
    "print(sorted(freqs, key=lambda x: -x[1])[:20])"
   ]
  },
  {
   "cell_type": "code",
   "execution_count": 16,
   "id": "9530f8dc-a13f-4178-8186-7b552d090982",
   "metadata": {},
   "outputs": [],
   "source": [
    "X = df_train['text']\n",
    "y = df_train['target']"
   ]
  },
  {
   "cell_type": "code",
   "execution_count": 17,
   "id": "af363c8e-9aa5-43b9-8fe2-5839e69cae67",
   "metadata": {},
   "outputs": [],
   "source": [
    "from sklearn.model_selection import train_test_split"
   ]
  },
  {
   "cell_type": "code",
   "execution_count": 18,
   "id": "e6226162-818e-43f4-87fa-8cecf4242599",
   "metadata": {},
   "outputs": [],
   "source": [
    "X_train = df_train['text']\n",
    "y_train = df_train['target']\n",
    "X_test = df_test['text']"
   ]
  },
  {
   "cell_type": "code",
   "execution_count": 19,
   "id": "93736e53-4c8a-4d39-8c92-b742c0b5c1d3",
   "metadata": {},
   "outputs": [],
   "source": [
    "X_train, X_val, y_train, y_val = train_test_split(X_train, y_train, test_size=0.1)"
   ]
  },
  {
   "cell_type": "code",
   "execution_count": 20,
   "id": "d10b2d2e-2636-4a09-98b9-5737522efef6",
   "metadata": {},
   "outputs": [],
   "source": [
    "from sklearn.feature_extraction.text import TfidfVectorizer\n",
    "from sklearn.pipeline import Pipeline"
   ]
  },
  {
   "cell_type": "code",
   "execution_count": 21,
   "id": "0e18a446-6b02-4000-bcaa-d2ac5adf2f1b",
   "metadata": {},
   "outputs": [],
   "source": [
    "tfidf = TfidfVectorizer()"
   ]
  },
  {
   "cell_type": "code",
   "execution_count": 22,
   "id": "5aa31b0a-7120-4f1b-b1f6-66f61b9d942f",
   "metadata": {},
   "outputs": [
    {
     "data": {
      "text/plain": [
       "3524    WFTV Eyewitness News: TN school psychologist a...\n",
       "6881    I'm that traumatised that I can't even spell p...\n",
       "2697    New SMP Ignition Knock (Detonation) Sensor KS3...\n",
       "3225    #Healthcare #Job in #Kodiak AK: Emergency Serv...\n",
       "3795    #SigAlert: North &amp; Southbound 133 closed b...\n",
       "                              ...                        \n",
       "6832                         trapped in its disappearance\n",
       "4230    MEG issues Hazardous Weather Outlook (HWO)  ht...\n",
       "1318    @nagel_ashley @Vicken52 @BasedLaRock @goonc1ty...\n",
       "4289    HELLFIRE EP - SILENTMIND &amp; @_bookofdaniel ...\n",
       "5515    gmtTy mhtw4fnet\\n\\nOfficials: Alabama home qua...\n",
       "Name: text, Length: 6851, dtype: object"
      ]
     },
     "execution_count": 22,
     "metadata": {},
     "output_type": "execute_result"
    }
   ],
   "source": [
    "X_train"
   ]
  },
  {
   "cell_type": "code",
   "execution_count": 23,
   "id": "bec25d1c-71e2-4639-bf08-6258a5107280",
   "metadata": {},
   "outputs": [],
   "source": [
    "X_train_tfidf = tfidf.fit_transform(X_train)\n",
    "X_test_tfidf = tfidf.transform(X_test)\n",
    "X_val_tfidf = tfidf.transform(X_val)\n",
    "X_train_tfidf = X_train_tfidf.toarray()\n",
    "X_test_tfidf = X_test_tfidf.toarray()\n",
    "X_val_tfidf = X_val_tfidf.toarray()"
   ]
  },
  {
   "cell_type": "code",
   "execution_count": 24,
   "id": "155bcb67-30c4-4ccb-8c6f-f66cec29540d",
   "metadata": {},
   "outputs": [
    {
     "data": {
      "text/plain": [
       "array([[0., 0., 0., ..., 0., 0., 0.],\n",
       "       [0., 0., 0., ..., 0., 0., 0.],\n",
       "       [0., 0., 0., ..., 0., 0., 0.],\n",
       "       ...,\n",
       "       [0., 0., 0., ..., 0., 0., 0.],\n",
       "       [0., 0., 0., ..., 0., 0., 0.],\n",
       "       [0., 0., 0., ..., 0., 0., 0.]])"
      ]
     },
     "execution_count": 24,
     "metadata": {},
     "output_type": "execute_result"
    }
   ],
   "source": [
    "X_train_tfidf"
   ]
  },
  {
   "cell_type": "code",
   "execution_count": 26,
   "id": "719ed2a4-40ab-4484-bdc3-f40e73473459",
   "metadata": {},
   "outputs": [],
   "source": [
    "import tensorflow as tf\n",
    "from tensorflow import keras"
   ]
  },
  {
   "cell_type": "code",
   "execution_count": 27,
   "id": "0d15473f-129d-4066-8bfd-d15d9a415354",
   "metadata": {},
   "outputs": [
    {
     "data": {
      "text/plain": [
       "(6851, 20188)"
      ]
     },
     "execution_count": 27,
     "metadata": {},
     "output_type": "execute_result"
    }
   ],
   "source": [
    "X_train_tfidf.shape"
   ]
  },
  {
   "cell_type": "code",
   "execution_count": 127,
   "id": "71961c16-704c-4c3a-9c1b-0a25fc564b2f",
   "metadata": {},
   "outputs": [],
   "source": [
    "model = keras.Sequential([\n",
    "    keras.layers.Dense(units = 1, activation='relu', input_dim = X_train_tfidf.shape[1]),\n",
    "    keras.layers.Dense(units = 8, activation='relu'),\n",
    "    keras.layers.Dense(units = 16, activation='relu'),\n",
    "    keras.layers.Dense(units = 32, activation='relu'),\n",
    "    keras.layers.Dense(units = 64, activation='relu'),\n",
    "    keras.layers.Dense(units = 1, activation = 'sigmoid')\n",
    "])\n",
    "model.compile(optimizer='adam', loss = 'binary_crossentropy', metrics=['accuracy'])"
   ]
  },
  {
   "cell_type": "code",
   "execution_count": 128,
   "id": "bf5d90af-0406-4442-8eca-b89035dff2ca",
   "metadata": {},
   "outputs": [
    {
     "name": "stdout",
     "output_type": "stream",
     "text": [
      "Epoch 1/50\n",
      "215/215 [==============================] - 1s 2ms/step - loss: 0.6061 - accuracy: 0.6498\n",
      "Epoch 2/50\n",
      "215/215 [==============================] - 0s 2ms/step - loss: 0.3092 - accuracy: 0.8775\n",
      "Epoch 3/50\n",
      "215/215 [==============================] - 0s 2ms/step - loss: 0.1442 - accuracy: 0.9520\n",
      "Epoch 4/50\n",
      "215/215 [==============================] - 0s 2ms/step - loss: 0.0704 - accuracy: 0.9781\n",
      "Epoch 5/50\n",
      "215/215 [==============================] - 0s 2ms/step - loss: 0.0396 - accuracy: 0.9883\n",
      "Epoch 6/50\n",
      "215/215 [==============================] - 0s 2ms/step - loss: 0.0306 - accuracy: 0.9923\n",
      "Epoch 7/50\n",
      "215/215 [==============================] - 0s 2ms/step - loss: 0.0244 - accuracy: 0.9934\n",
      "Epoch 8/50\n",
      "215/215 [==============================] - 0s 2ms/step - loss: 0.0219 - accuracy: 0.9937\n",
      "Epoch 9/50\n",
      "215/215 [==============================] - 0s 1ms/step - loss: 0.0222 - accuracy: 0.9945\n",
      "Epoch 10/50\n",
      "215/215 [==============================] - 0s 1ms/step - loss: 0.0284 - accuracy: 0.9921\n",
      "Epoch 11/50\n",
      "215/215 [==============================] - 0s 1ms/step - loss: 0.0204 - accuracy: 0.9949\n",
      "Epoch 12/50\n",
      "215/215 [==============================] - 0s 1ms/step - loss: 0.0198 - accuracy: 0.9953\n",
      "Epoch 13/50\n",
      "215/215 [==============================] - 0s 1ms/step - loss: 0.0190 - accuracy: 0.9950\n",
      "Epoch 14/50\n",
      "215/215 [==============================] - 0s 1ms/step - loss: 0.0205 - accuracy: 0.9946\n",
      "Epoch 15/50\n",
      "215/215 [==============================] - 0s 1ms/step - loss: 0.0208 - accuracy: 0.9942\n",
      "Epoch 16/50\n",
      "215/215 [==============================] - 0s 1ms/step - loss: 0.0189 - accuracy: 0.9952\n",
      "Epoch 17/50\n",
      "215/215 [==============================] - 0s 1ms/step - loss: 0.0190 - accuracy: 0.9950\n",
      "Epoch 18/50\n",
      "215/215 [==============================] - 0s 1ms/step - loss: 0.0210 - accuracy: 0.9949\n",
      "Epoch 19/50\n",
      "215/215 [==============================] - 0s 1ms/step - loss: 0.0198 - accuracy: 0.9952\n",
      "Epoch 20/50\n",
      "215/215 [==============================] - 0s 1ms/step - loss: 0.0187 - accuracy: 0.9955\n",
      "Epoch 21/50\n",
      "215/215 [==============================] - 0s 1ms/step - loss: 0.0176 - accuracy: 0.9946\n",
      "Epoch 22/50\n",
      "215/215 [==============================] - 0s 1ms/step - loss: 0.0189 - accuracy: 0.9946\n",
      "Epoch 23/50\n",
      "215/215 [==============================] - 0s 1ms/step - loss: 0.0176 - accuracy: 0.9949\n",
      "Epoch 24/50\n",
      "215/215 [==============================] - 0s 1ms/step - loss: 0.0173 - accuracy: 0.9953\n",
      "Epoch 25/50\n",
      "215/215 [==============================] - 0s 1ms/step - loss: 0.0176 - accuracy: 0.9942\n",
      "Epoch 26/50\n",
      "215/215 [==============================] - 0s 1ms/step - loss: 0.0162 - accuracy: 0.9955\n",
      "Epoch 27/50\n",
      "215/215 [==============================] - 0s 1ms/step - loss: 0.0181 - accuracy: 0.9939\n",
      "Epoch 28/50\n",
      "215/215 [==============================] - 0s 1ms/step - loss: 0.0172 - accuracy: 0.9950\n",
      "Epoch 29/50\n",
      "215/215 [==============================] - 0s 1ms/step - loss: 0.0170 - accuracy: 0.9952\n",
      "Epoch 30/50\n",
      "215/215 [==============================] - 0s 1ms/step - loss: 0.0158 - accuracy: 0.9950\n",
      "Epoch 31/50\n",
      "215/215 [==============================] - 0s 1ms/step - loss: 0.0153 - accuracy: 0.9952\n",
      "Epoch 32/50\n",
      "215/215 [==============================] - 0s 1ms/step - loss: 0.0156 - accuracy: 0.9955\n",
      "Epoch 33/50\n",
      "215/215 [==============================] - 0s 1ms/step - loss: 0.0161 - accuracy: 0.9955\n",
      "Epoch 34/50\n",
      "215/215 [==============================] - 0s 1ms/step - loss: 0.0182 - accuracy: 0.9949\n",
      "Epoch 35/50\n",
      "215/215 [==============================] - 0s 1ms/step - loss: 0.0160 - accuracy: 0.9952\n",
      "Epoch 36/50\n",
      "215/215 [==============================] - 0s 2ms/step - loss: 0.0155 - accuracy: 0.9953\n",
      "Epoch 37/50\n",
      "215/215 [==============================] - 0s 1ms/step - loss: 0.0154 - accuracy: 0.9952\n",
      "Epoch 38/50\n",
      "215/215 [==============================] - 0s 1ms/step - loss: 0.0156 - accuracy: 0.9949\n",
      "Epoch 39/50\n",
      "215/215 [==============================] - 0s 1ms/step - loss: 0.0152 - accuracy: 0.9950\n",
      "Epoch 40/50\n",
      "215/215 [==============================] - 0s 1ms/step - loss: 0.0141 - accuracy: 0.9958\n",
      "Epoch 41/50\n",
      "215/215 [==============================] - 0s 1ms/step - loss: 0.0152 - accuracy: 0.9949\n",
      "Epoch 42/50\n",
      "215/215 [==============================] - 0s 1ms/step - loss: 0.0149 - accuracy: 0.9945\n",
      "Epoch 43/50\n",
      "215/215 [==============================] - 0s 1ms/step - loss: 0.0140 - accuracy: 0.9955\n",
      "Epoch 44/50\n",
      "215/215 [==============================] - 0s 1ms/step - loss: 0.0149 - accuracy: 0.9953\n",
      "Epoch 45/50\n",
      "215/215 [==============================] - 0s 1ms/step - loss: 0.0144 - accuracy: 0.9955\n",
      "Epoch 46/50\n",
      "215/215 [==============================] - 0s 1ms/step - loss: 0.0151 - accuracy: 0.9949\n",
      "Epoch 47/50\n",
      "215/215 [==============================] - 0s 1ms/step - loss: 0.0143 - accuracy: 0.9955\n",
      "Epoch 48/50\n",
      "215/215 [==============================] - 0s 1ms/step - loss: 0.0151 - accuracy: 0.9950\n",
      "Epoch 49/50\n",
      "215/215 [==============================] - 0s 1ms/step - loss: 0.0139 - accuracy: 0.9949\n",
      "Epoch 50/50\n",
      "215/215 [==============================] - 0s 1ms/step - loss: 0.0153 - accuracy: 0.9950\n"
     ]
    },
    {
     "data": {
      "text/plain": [
       "<keras.src.callbacks.History at 0x1d87fe55150>"
      ]
     },
     "execution_count": 128,
     "metadata": {},
     "output_type": "execute_result"
    }
   ],
   "source": [
    "model.fit(X_train_tfidf, y_train, epochs=50)"
   ]
  },
  {
   "cell_type": "code",
   "execution_count": 129,
   "id": "8c1fef8e-cc21-4914-907f-f9fed40d5e32",
   "metadata": {},
   "outputs": [],
   "source": [
    "from sklearn.metrics import classification_report,plot_confusion_matrix"
   ]
  },
  {
   "cell_type": "code",
   "execution_count": 130,
   "id": "645998af-239c-4f75-ba51-0aeff4470829",
   "metadata": {},
   "outputs": [
    {
     "name": "stdout",
     "output_type": "stream",
     "text": [
      "102/102 [==============================] - 0s 926us/step\n"
     ]
    }
   ],
   "source": [
    "y_pred_prob = model.predict(X_test_tfidf)"
   ]
  },
  {
   "cell_type": "code",
   "execution_count": 131,
   "id": "b27dd2d0-d00c-4c44-8957-af1516e8debe",
   "metadata": {},
   "outputs": [],
   "source": [
    "y_pred = (y_pred_prob > 0.5).astype(int)"
   ]
  },
  {
   "cell_type": "code",
   "execution_count": 132,
   "id": "f21a61fa-46c3-40b2-9d8b-3d95e6904b7d",
   "metadata": {},
   "outputs": [
    {
     "name": "stdout",
     "output_type": "stream",
     "text": [
      "24/24 [==============================] - 0s 695us/step\n"
     ]
    }
   ],
   "source": [
    "y_pred_prob1 = model.predict(X_val_tfidf)"
   ]
  },
  {
   "cell_type": "code",
   "execution_count": 133,
   "id": "84eee2ab-21e2-4f7e-bdfc-efc0f4ed5777",
   "metadata": {},
   "outputs": [],
   "source": [
    "y_pred1 = (y_pred_prob1 > 0.5).astype(int)"
   ]
  },
  {
   "cell_type": "code",
   "execution_count": 134,
   "id": "1a681e4a-bb2a-4bc7-939f-13462868b49a",
   "metadata": {},
   "outputs": [
    {
     "name": "stdout",
     "output_type": "stream",
     "text": [
      "              precision    recall  f1-score   support\n",
      "\n",
      "           0       0.77      0.76      0.76       438\n",
      "           1       0.68      0.69      0.68       324\n",
      "\n",
      "    accuracy                           0.73       762\n",
      "   macro avg       0.72      0.72      0.72       762\n",
      "weighted avg       0.73      0.73      0.73       762\n",
      "\n"
     ]
    }
   ],
   "source": [
    "print(classification_report(y_val, y_pred1))"
   ]
  },
  {
   "cell_type": "code",
   "execution_count": 135,
   "id": "02fb46ea-9270-4af5-aa86-6ae97324315d",
   "metadata": {},
   "outputs": [],
   "source": [
    "sub = pd.read_csv('sample_submission.csv')"
   ]
  },
  {
   "cell_type": "code",
   "execution_count": 136,
   "id": "a97875fa-50c9-4084-99de-8589aeea34bb",
   "metadata": {},
   "outputs": [
    {
     "data": {
      "text/plain": [
       "(3263,)"
      ]
     },
     "execution_count": 136,
     "metadata": {},
     "output_type": "execute_result"
    }
   ],
   "source": [
    "sub['id'].shape"
   ]
  },
  {
   "cell_type": "code",
   "execution_count": 137,
   "id": "f18491bd-b188-4b77-a47f-3b5bfbc199ae",
   "metadata": {},
   "outputs": [
    {
     "data": {
      "text/plain": [
       "(3263, 1)"
      ]
     },
     "execution_count": 137,
     "metadata": {},
     "output_type": "execute_result"
    }
   ],
   "source": [
    "y_pred.shape"
   ]
  },
  {
   "cell_type": "code",
   "execution_count": 138,
   "id": "a70a3cda-ba01-4ed5-8891-b04c0e39a293",
   "metadata": {},
   "outputs": [],
   "source": [
    "y_pred = y_pred.flatten()"
   ]
  },
  {
   "cell_type": "code",
   "execution_count": 139,
   "id": "a515cc31-cd0e-4332-bc82-8646a674639d",
   "metadata": {},
   "outputs": [
    {
     "data": {
      "text/plain": [
       "(3263,)"
      ]
     },
     "execution_count": 139,
     "metadata": {},
     "output_type": "execute_result"
    }
   ],
   "source": [
    "y_pred.shape"
   ]
  },
  {
   "cell_type": "code",
   "execution_count": 140,
   "id": "f507a560-5d19-4dcf-9d32-bd3c0ad354a5",
   "metadata": {},
   "outputs": [],
   "source": [
    "sub['target'] = y_pred"
   ]
  },
  {
   "cell_type": "code",
   "execution_count": 141,
   "id": "6befa73d-b918-422d-bf3f-6653e7deb889",
   "metadata": {},
   "outputs": [],
   "source": [
    "sub.to_csv('nn.csv', index=False, index_label=False)"
   ]
  },
  {
   "cell_type": "code",
   "execution_count": 158,
   "id": "8bc83625-a80f-4416-b47d-e1f370659a65",
   "metadata": {},
   "outputs": [],
   "source": [
    "X = df_train['text']\n",
    "y = df_train['target']"
   ]
  },
  {
   "cell_type": "code",
   "execution_count": 159,
   "id": "4e60a96d-dbb7-401b-8414-b69d5882d41c",
   "metadata": {},
   "outputs": [],
   "source": [
    "from sklearn.model_selection import train_test_split"
   ]
  },
  {
   "cell_type": "code",
   "execution_count": 160,
   "id": "9c8a2e1e-e743-4a56-9646-2f715c5793d6",
   "metadata": {},
   "outputs": [],
   "source": [
    "X_train, X_test, y_train, y_test = train_test_split(X, y, test_size=0.3, random_state=101)"
   ]
  },
  {
   "cell_type": "code",
   "execution_count": 161,
   "id": "86197e8d-4295-44d5-a073-5586e2c5f410",
   "metadata": {},
   "outputs": [],
   "source": [
    "from sklearn.pipeline import Pipeline\n",
    "from sklearn.feature_extraction.text import TfidfVectorizer\n",
    "from sklearn.naive_bayes import MultinomialNB\n",
    "from sklearn.model_selection import GridSearchCV"
   ]
  },
  {
   "cell_type": "code",
   "execution_count": 162,
   "id": "71b6ede9-8c64-40f9-ae13-f2ceb1deb193",
   "metadata": {},
   "outputs": [],
   "source": [
    "pipe = Pipeline([('tfidf', TfidfVectorizer()),('nb', MultinomialNB())])"
   ]
  },
  {
   "cell_type": "code",
   "execution_count": 163,
   "id": "f3e8e404-b364-42f5-a158-62237251c5d7",
   "metadata": {},
   "outputs": [],
   "source": [
    "params = {\n",
    "    'nb__alpha':[0.1, 0.3, 0.5, 0.6, 0.7, 0.8, 1.0],\n",
    "    'nb__fit_prior':[True, False], \n",
    "    'nb__class_prior':[None, 0.2, 0.3, 0.4, 0.5, 0.7, 1.0]\n",
    "}"
   ]
  },
  {
   "cell_type": "code",
   "execution_count": 164,
   "id": "c03c8e8c-3c63-47c9-a25a-89c12773610e",
   "metadata": {},
   "outputs": [],
   "source": [
    "full_model = GridSearchCV(pipe, param_grid=params, cv = 3, verbose = 2)"
   ]
  },
  {
   "cell_type": "code",
   "execution_count": 165,
   "id": "ba4892ed-63a1-4ab8-8d70-bb3c97af7fbc",
   "metadata": {},
   "outputs": [
    {
     "name": "stdout",
     "output_type": "stream",
     "text": [
      "Fitting 3 folds for each of 98 candidates, totalling 294 fits\n",
      "[CV] END nb__alpha=0.1, nb__class_prior=None, nb__fit_prior=True; total time=   0.0s\n",
      "[CV] END nb__alpha=0.1, nb__class_prior=None, nb__fit_prior=True; total time=   0.0s\n",
      "[CV] END nb__alpha=0.1, nb__class_prior=None, nb__fit_prior=True; total time=   0.0s\n",
      "[CV] END nb__alpha=0.1, nb__class_prior=None, nb__fit_prior=False; total time=   0.0s\n",
      "[CV] END nb__alpha=0.1, nb__class_prior=None, nb__fit_prior=False; total time=   0.0s\n",
      "[CV] END nb__alpha=0.1, nb__class_prior=None, nb__fit_prior=False; total time=   0.0s\n",
      "[CV] END nb__alpha=0.1, nb__class_prior=0.2, nb__fit_prior=True; total time=   0.0s\n",
      "[CV] END nb__alpha=0.1, nb__class_prior=0.2, nb__fit_prior=True; total time=   0.0s\n",
      "[CV] END nb__alpha=0.1, nb__class_prior=0.2, nb__fit_prior=True; total time=   0.0s\n",
      "[CV] END nb__alpha=0.1, nb__class_prior=0.2, nb__fit_prior=False; total time=   0.0s\n",
      "[CV] END nb__alpha=0.1, nb__class_prior=0.2, nb__fit_prior=False; total time=   0.0s\n",
      "[CV] END nb__alpha=0.1, nb__class_prior=0.2, nb__fit_prior=False; total time=   0.0s\n",
      "[CV] END nb__alpha=0.1, nb__class_prior=0.3, nb__fit_prior=True; total time=   0.0s\n",
      "[CV] END nb__alpha=0.1, nb__class_prior=0.3, nb__fit_prior=True; total time=   0.0s\n",
      "[CV] END nb__alpha=0.1, nb__class_prior=0.3, nb__fit_prior=True; total time=   0.0s\n",
      "[CV] END nb__alpha=0.1, nb__class_prior=0.3, nb__fit_prior=False; total time=   0.0s\n",
      "[CV] END nb__alpha=0.1, nb__class_prior=0.3, nb__fit_prior=False; total time=   0.0s\n",
      "[CV] END nb__alpha=0.1, nb__class_prior=0.3, nb__fit_prior=False; total time=   0.0s\n",
      "[CV] END nb__alpha=0.1, nb__class_prior=0.4, nb__fit_prior=True; total time=   0.0s\n",
      "[CV] END nb__alpha=0.1, nb__class_prior=0.4, nb__fit_prior=True; total time=   0.0s\n",
      "[CV] END nb__alpha=0.1, nb__class_prior=0.4, nb__fit_prior=True; total time=   0.0s\n",
      "[CV] END nb__alpha=0.1, nb__class_prior=0.4, nb__fit_prior=False; total time=   0.0s\n",
      "[CV] END nb__alpha=0.1, nb__class_prior=0.4, nb__fit_prior=False; total time=   0.0s\n",
      "[CV] END nb__alpha=0.1, nb__class_prior=0.4, nb__fit_prior=False; total time=   0.0s\n",
      "[CV] END nb__alpha=0.1, nb__class_prior=0.5, nb__fit_prior=True; total time=   0.0s\n",
      "[CV] END nb__alpha=0.1, nb__class_prior=0.5, nb__fit_prior=True; total time=   0.0s\n",
      "[CV] END nb__alpha=0.1, nb__class_prior=0.5, nb__fit_prior=True; total time=   0.0s\n",
      "[CV] END nb__alpha=0.1, nb__class_prior=0.5, nb__fit_prior=False; total time=   0.0s\n",
      "[CV] END nb__alpha=0.1, nb__class_prior=0.5, nb__fit_prior=False; total time=   0.0s\n",
      "[CV] END nb__alpha=0.1, nb__class_prior=0.5, nb__fit_prior=False; total time=   0.0s\n",
      "[CV] END nb__alpha=0.1, nb__class_prior=0.7, nb__fit_prior=True; total time=   0.0s\n",
      "[CV] END nb__alpha=0.1, nb__class_prior=0.7, nb__fit_prior=True; total time=   0.0s\n",
      "[CV] END nb__alpha=0.1, nb__class_prior=0.7, nb__fit_prior=True; total time=   0.0s\n",
      "[CV] END nb__alpha=0.1, nb__class_prior=0.7, nb__fit_prior=False; total time=   0.0s\n",
      "[CV] END nb__alpha=0.1, nb__class_prior=0.7, nb__fit_prior=False; total time=   0.0s\n",
      "[CV] END nb__alpha=0.1, nb__class_prior=0.7, nb__fit_prior=False; total time=   0.0s\n",
      "[CV] END nb__alpha=0.1, nb__class_prior=1.0, nb__fit_prior=True; total time=   0.0s\n",
      "[CV] END nb__alpha=0.1, nb__class_prior=1.0, nb__fit_prior=True; total time=   0.0s\n",
      "[CV] END nb__alpha=0.1, nb__class_prior=1.0, nb__fit_prior=True; total time=   0.0s\n",
      "[CV] END nb__alpha=0.1, nb__class_prior=1.0, nb__fit_prior=False; total time=   0.0s\n",
      "[CV] END nb__alpha=0.1, nb__class_prior=1.0, nb__fit_prior=False; total time=   0.0s\n",
      "[CV] END nb__alpha=0.1, nb__class_prior=1.0, nb__fit_prior=False; total time=   0.0s\n",
      "[CV] END nb__alpha=0.3, nb__class_prior=None, nb__fit_prior=True; total time=   0.0s\n",
      "[CV] END nb__alpha=0.3, nb__class_prior=None, nb__fit_prior=True; total time=   0.0s\n",
      "[CV] END nb__alpha=0.3, nb__class_prior=None, nb__fit_prior=True; total time=   0.0s\n",
      "[CV] END nb__alpha=0.3, nb__class_prior=None, nb__fit_prior=False; total time=   0.0s\n",
      "[CV] END nb__alpha=0.3, nb__class_prior=None, nb__fit_prior=False; total time=   0.0s\n",
      "[CV] END nb__alpha=0.3, nb__class_prior=None, nb__fit_prior=False; total time=   0.0s\n",
      "[CV] END nb__alpha=0.3, nb__class_prior=0.2, nb__fit_prior=True; total time=   0.0s\n",
      "[CV] END nb__alpha=0.3, nb__class_prior=0.2, nb__fit_prior=True; total time=   0.0s\n",
      "[CV] END nb__alpha=0.3, nb__class_prior=0.2, nb__fit_prior=True; total time=   0.0s\n",
      "[CV] END nb__alpha=0.3, nb__class_prior=0.2, nb__fit_prior=False; total time=   0.0s\n",
      "[CV] END nb__alpha=0.3, nb__class_prior=0.2, nb__fit_prior=False; total time=   0.0s\n",
      "[CV] END nb__alpha=0.3, nb__class_prior=0.2, nb__fit_prior=False; total time=   0.0s\n",
      "[CV] END nb__alpha=0.3, nb__class_prior=0.3, nb__fit_prior=True; total time=   0.0s\n",
      "[CV] END nb__alpha=0.3, nb__class_prior=0.3, nb__fit_prior=True; total time=   0.0s\n",
      "[CV] END nb__alpha=0.3, nb__class_prior=0.3, nb__fit_prior=True; total time=   0.0s\n",
      "[CV] END nb__alpha=0.3, nb__class_prior=0.3, nb__fit_prior=False; total time=   0.0s\n",
      "[CV] END nb__alpha=0.3, nb__class_prior=0.3, nb__fit_prior=False; total time=   0.0s\n",
      "[CV] END nb__alpha=0.3, nb__class_prior=0.3, nb__fit_prior=False; total time=   0.0s\n",
      "[CV] END nb__alpha=0.3, nb__class_prior=0.4, nb__fit_prior=True; total time=   0.0s\n",
      "[CV] END nb__alpha=0.3, nb__class_prior=0.4, nb__fit_prior=True; total time=   0.0s\n",
      "[CV] END nb__alpha=0.3, nb__class_prior=0.4, nb__fit_prior=True; total time=   0.0s\n",
      "[CV] END nb__alpha=0.3, nb__class_prior=0.4, nb__fit_prior=False; total time=   0.0s\n",
      "[CV] END nb__alpha=0.3, nb__class_prior=0.4, nb__fit_prior=False; total time=   0.0s\n",
      "[CV] END nb__alpha=0.3, nb__class_prior=0.4, nb__fit_prior=False; total time=   0.0s\n",
      "[CV] END nb__alpha=0.3, nb__class_prior=0.5, nb__fit_prior=True; total time=   0.0s\n",
      "[CV] END nb__alpha=0.3, nb__class_prior=0.5, nb__fit_prior=True; total time=   0.0s\n",
      "[CV] END nb__alpha=0.3, nb__class_prior=0.5, nb__fit_prior=True; total time=   0.0s\n",
      "[CV] END nb__alpha=0.3, nb__class_prior=0.5, nb__fit_prior=False; total time=   0.0s\n",
      "[CV] END nb__alpha=0.3, nb__class_prior=0.5, nb__fit_prior=False; total time=   0.0s\n",
      "[CV] END nb__alpha=0.3, nb__class_prior=0.5, nb__fit_prior=False; total time=   0.0s\n",
      "[CV] END nb__alpha=0.3, nb__class_prior=0.7, nb__fit_prior=True; total time=   0.0s\n",
      "[CV] END nb__alpha=0.3, nb__class_prior=0.7, nb__fit_prior=True; total time=   0.0s\n",
      "[CV] END nb__alpha=0.3, nb__class_prior=0.7, nb__fit_prior=True; total time=   0.0s\n",
      "[CV] END nb__alpha=0.3, nb__class_prior=0.7, nb__fit_prior=False; total time=   0.0s\n",
      "[CV] END nb__alpha=0.3, nb__class_prior=0.7, nb__fit_prior=False; total time=   0.0s\n",
      "[CV] END nb__alpha=0.3, nb__class_prior=0.7, nb__fit_prior=False; total time=   0.0s\n",
      "[CV] END nb__alpha=0.3, nb__class_prior=1.0, nb__fit_prior=True; total time=   0.0s\n",
      "[CV] END nb__alpha=0.3, nb__class_prior=1.0, nb__fit_prior=True; total time=   0.0s\n",
      "[CV] END nb__alpha=0.3, nb__class_prior=1.0, nb__fit_prior=True; total time=   0.0s\n",
      "[CV] END nb__alpha=0.3, nb__class_prior=1.0, nb__fit_prior=False; total time=   0.0s\n",
      "[CV] END nb__alpha=0.3, nb__class_prior=1.0, nb__fit_prior=False; total time=   0.0s\n",
      "[CV] END nb__alpha=0.3, nb__class_prior=1.0, nb__fit_prior=False; total time=   0.0s\n",
      "[CV] END nb__alpha=0.5, nb__class_prior=None, nb__fit_prior=True; total time=   0.0s\n",
      "[CV] END nb__alpha=0.5, nb__class_prior=None, nb__fit_prior=True; total time=   0.0s\n",
      "[CV] END nb__alpha=0.5, nb__class_prior=None, nb__fit_prior=True; total time=   0.0s\n",
      "[CV] END nb__alpha=0.5, nb__class_prior=None, nb__fit_prior=False; total time=   0.0s\n",
      "[CV] END nb__alpha=0.5, nb__class_prior=None, nb__fit_prior=False; total time=   0.0s\n",
      "[CV] END nb__alpha=0.5, nb__class_prior=None, nb__fit_prior=False; total time=   0.0s\n",
      "[CV] END nb__alpha=0.5, nb__class_prior=0.2, nb__fit_prior=True; total time=   0.0s\n",
      "[CV] END nb__alpha=0.5, nb__class_prior=0.2, nb__fit_prior=True; total time=   0.0s\n",
      "[CV] END nb__alpha=0.5, nb__class_prior=0.2, nb__fit_prior=True; total time=   0.0s\n",
      "[CV] END nb__alpha=0.5, nb__class_prior=0.2, nb__fit_prior=False; total time=   0.0s\n",
      "[CV] END nb__alpha=0.5, nb__class_prior=0.2, nb__fit_prior=False; total time=   0.0s\n",
      "[CV] END nb__alpha=0.5, nb__class_prior=0.2, nb__fit_prior=False; total time=   0.0s\n",
      "[CV] END nb__alpha=0.5, nb__class_prior=0.3, nb__fit_prior=True; total time=   0.0s\n",
      "[CV] END nb__alpha=0.5, nb__class_prior=0.3, nb__fit_prior=True; total time=   0.0s\n",
      "[CV] END nb__alpha=0.5, nb__class_prior=0.3, nb__fit_prior=True; total time=   0.0s\n",
      "[CV] END nb__alpha=0.5, nb__class_prior=0.3, nb__fit_prior=False; total time=   0.0s\n",
      "[CV] END nb__alpha=0.5, nb__class_prior=0.3, nb__fit_prior=False; total time=   0.0s\n",
      "[CV] END nb__alpha=0.5, nb__class_prior=0.3, nb__fit_prior=False; total time=   0.0s\n",
      "[CV] END nb__alpha=0.5, nb__class_prior=0.4, nb__fit_prior=True; total time=   0.0s\n",
      "[CV] END nb__alpha=0.5, nb__class_prior=0.4, nb__fit_prior=True; total time=   0.0s\n",
      "[CV] END nb__alpha=0.5, nb__class_prior=0.4, nb__fit_prior=True; total time=   0.0s\n",
      "[CV] END nb__alpha=0.5, nb__class_prior=0.4, nb__fit_prior=False; total time=   0.0s\n",
      "[CV] END nb__alpha=0.5, nb__class_prior=0.4, nb__fit_prior=False; total time=   0.0s\n",
      "[CV] END nb__alpha=0.5, nb__class_prior=0.4, nb__fit_prior=False; total time=   0.0s\n",
      "[CV] END nb__alpha=0.5, nb__class_prior=0.5, nb__fit_prior=True; total time=   0.0s\n",
      "[CV] END nb__alpha=0.5, nb__class_prior=0.5, nb__fit_prior=True; total time=   0.0s\n",
      "[CV] END nb__alpha=0.5, nb__class_prior=0.5, nb__fit_prior=True; total time=   0.0s\n",
      "[CV] END nb__alpha=0.5, nb__class_prior=0.5, nb__fit_prior=False; total time=   0.0s\n",
      "[CV] END nb__alpha=0.5, nb__class_prior=0.5, nb__fit_prior=False; total time=   0.0s\n",
      "[CV] END nb__alpha=0.5, nb__class_prior=0.5, nb__fit_prior=False; total time=   0.0s\n",
      "[CV] END nb__alpha=0.5, nb__class_prior=0.7, nb__fit_prior=True; total time=   0.0s\n",
      "[CV] END nb__alpha=0.5, nb__class_prior=0.7, nb__fit_prior=True; total time=   0.0s\n",
      "[CV] END nb__alpha=0.5, nb__class_prior=0.7, nb__fit_prior=True; total time=   0.0s\n",
      "[CV] END nb__alpha=0.5, nb__class_prior=0.7, nb__fit_prior=False; total time=   0.0s\n",
      "[CV] END nb__alpha=0.5, nb__class_prior=0.7, nb__fit_prior=False; total time=   0.0s\n",
      "[CV] END nb__alpha=0.5, nb__class_prior=0.7, nb__fit_prior=False; total time=   0.0s\n",
      "[CV] END nb__alpha=0.5, nb__class_prior=1.0, nb__fit_prior=True; total time=   0.0s\n",
      "[CV] END nb__alpha=0.5, nb__class_prior=1.0, nb__fit_prior=True; total time=   0.0s\n",
      "[CV] END nb__alpha=0.5, nb__class_prior=1.0, nb__fit_prior=True; total time=   0.0s\n",
      "[CV] END nb__alpha=0.5, nb__class_prior=1.0, nb__fit_prior=False; total time=   0.0s\n",
      "[CV] END nb__alpha=0.5, nb__class_prior=1.0, nb__fit_prior=False; total time=   0.0s\n",
      "[CV] END nb__alpha=0.5, nb__class_prior=1.0, nb__fit_prior=False; total time=   0.0s\n",
      "[CV] END nb__alpha=0.6, nb__class_prior=None, nb__fit_prior=True; total time=   0.0s\n",
      "[CV] END nb__alpha=0.6, nb__class_prior=None, nb__fit_prior=True; total time=   0.0s\n",
      "[CV] END nb__alpha=0.6, nb__class_prior=None, nb__fit_prior=True; total time=   0.0s\n",
      "[CV] END nb__alpha=0.6, nb__class_prior=None, nb__fit_prior=False; total time=   0.0s\n",
      "[CV] END nb__alpha=0.6, nb__class_prior=None, nb__fit_prior=False; total time=   0.0s\n",
      "[CV] END nb__alpha=0.6, nb__class_prior=None, nb__fit_prior=False; total time=   0.0s\n",
      "[CV] END nb__alpha=0.6, nb__class_prior=0.2, nb__fit_prior=True; total time=   0.0s\n",
      "[CV] END nb__alpha=0.6, nb__class_prior=0.2, nb__fit_prior=True; total time=   0.0s\n",
      "[CV] END nb__alpha=0.6, nb__class_prior=0.2, nb__fit_prior=True; total time=   0.0s\n",
      "[CV] END nb__alpha=0.6, nb__class_prior=0.2, nb__fit_prior=False; total time=   0.0s\n",
      "[CV] END nb__alpha=0.6, nb__class_prior=0.2, nb__fit_prior=False; total time=   0.0s\n",
      "[CV] END nb__alpha=0.6, nb__class_prior=0.2, nb__fit_prior=False; total time=   0.0s\n",
      "[CV] END nb__alpha=0.6, nb__class_prior=0.3, nb__fit_prior=True; total time=   0.0s\n",
      "[CV] END nb__alpha=0.6, nb__class_prior=0.3, nb__fit_prior=True; total time=   0.0s\n",
      "[CV] END nb__alpha=0.6, nb__class_prior=0.3, nb__fit_prior=True; total time=   0.0s\n",
      "[CV] END nb__alpha=0.6, nb__class_prior=0.3, nb__fit_prior=False; total time=   0.0s\n",
      "[CV] END nb__alpha=0.6, nb__class_prior=0.3, nb__fit_prior=False; total time=   0.0s\n",
      "[CV] END nb__alpha=0.6, nb__class_prior=0.3, nb__fit_prior=False; total time=   0.0s\n",
      "[CV] END nb__alpha=0.6, nb__class_prior=0.4, nb__fit_prior=True; total time=   0.0s\n",
      "[CV] END nb__alpha=0.6, nb__class_prior=0.4, nb__fit_prior=True; total time=   0.0s\n",
      "[CV] END nb__alpha=0.6, nb__class_prior=0.4, nb__fit_prior=True; total time=   0.0s\n",
      "[CV] END nb__alpha=0.6, nb__class_prior=0.4, nb__fit_prior=False; total time=   0.0s\n",
      "[CV] END nb__alpha=0.6, nb__class_prior=0.4, nb__fit_prior=False; total time=   0.0s\n",
      "[CV] END nb__alpha=0.6, nb__class_prior=0.4, nb__fit_prior=False; total time=   0.0s\n",
      "[CV] END nb__alpha=0.6, nb__class_prior=0.5, nb__fit_prior=True; total time=   0.0s\n",
      "[CV] END nb__alpha=0.6, nb__class_prior=0.5, nb__fit_prior=True; total time=   0.0s\n",
      "[CV] END nb__alpha=0.6, nb__class_prior=0.5, nb__fit_prior=True; total time=   0.0s\n",
      "[CV] END nb__alpha=0.6, nb__class_prior=0.5, nb__fit_prior=False; total time=   0.0s\n",
      "[CV] END nb__alpha=0.6, nb__class_prior=0.5, nb__fit_prior=False; total time=   0.0s\n",
      "[CV] END nb__alpha=0.6, nb__class_prior=0.5, nb__fit_prior=False; total time=   0.0s\n",
      "[CV] END nb__alpha=0.6, nb__class_prior=0.7, nb__fit_prior=True; total time=   0.0s\n",
      "[CV] END nb__alpha=0.6, nb__class_prior=0.7, nb__fit_prior=True; total time=   0.0s\n",
      "[CV] END nb__alpha=0.6, nb__class_prior=0.7, nb__fit_prior=True; total time=   0.0s\n",
      "[CV] END nb__alpha=0.6, nb__class_prior=0.7, nb__fit_prior=False; total time=   0.0s\n",
      "[CV] END nb__alpha=0.6, nb__class_prior=0.7, nb__fit_prior=False; total time=   0.0s\n",
      "[CV] END nb__alpha=0.6, nb__class_prior=0.7, nb__fit_prior=False; total time=   0.0s\n",
      "[CV] END nb__alpha=0.6, nb__class_prior=1.0, nb__fit_prior=True; total time=   0.0s\n",
      "[CV] END nb__alpha=0.6, nb__class_prior=1.0, nb__fit_prior=True; total time=   0.0s\n",
      "[CV] END nb__alpha=0.6, nb__class_prior=1.0, nb__fit_prior=True; total time=   0.0s\n",
      "[CV] END nb__alpha=0.6, nb__class_prior=1.0, nb__fit_prior=False; total time=   0.0s\n",
      "[CV] END nb__alpha=0.6, nb__class_prior=1.0, nb__fit_prior=False; total time=   0.0s\n",
      "[CV] END nb__alpha=0.6, nb__class_prior=1.0, nb__fit_prior=False; total time=   0.0s\n",
      "[CV] END nb__alpha=0.7, nb__class_prior=None, nb__fit_prior=True; total time=   0.0s\n",
      "[CV] END nb__alpha=0.7, nb__class_prior=None, nb__fit_prior=True; total time=   0.0s\n",
      "[CV] END nb__alpha=0.7, nb__class_prior=None, nb__fit_prior=True; total time=   0.0s\n",
      "[CV] END nb__alpha=0.7, nb__class_prior=None, nb__fit_prior=False; total time=   0.0s\n",
      "[CV] END nb__alpha=0.7, nb__class_prior=None, nb__fit_prior=False; total time=   0.0s\n",
      "[CV] END nb__alpha=0.7, nb__class_prior=None, nb__fit_prior=False; total time=   0.0s\n",
      "[CV] END nb__alpha=0.7, nb__class_prior=0.2, nb__fit_prior=True; total time=   0.0s\n",
      "[CV] END nb__alpha=0.7, nb__class_prior=0.2, nb__fit_prior=True; total time=   0.0s\n",
      "[CV] END nb__alpha=0.7, nb__class_prior=0.2, nb__fit_prior=True; total time=   0.0s\n",
      "[CV] END nb__alpha=0.7, nb__class_prior=0.2, nb__fit_prior=False; total time=   0.0s\n",
      "[CV] END nb__alpha=0.7, nb__class_prior=0.2, nb__fit_prior=False; total time=   0.0s\n",
      "[CV] END nb__alpha=0.7, nb__class_prior=0.2, nb__fit_prior=False; total time=   0.0s\n",
      "[CV] END nb__alpha=0.7, nb__class_prior=0.3, nb__fit_prior=True; total time=   0.0s\n",
      "[CV] END nb__alpha=0.7, nb__class_prior=0.3, nb__fit_prior=True; total time=   0.0s\n",
      "[CV] END nb__alpha=0.7, nb__class_prior=0.3, nb__fit_prior=True; total time=   0.0s\n",
      "[CV] END nb__alpha=0.7, nb__class_prior=0.3, nb__fit_prior=False; total time=   0.0s\n",
      "[CV] END nb__alpha=0.7, nb__class_prior=0.3, nb__fit_prior=False; total time=   0.0s\n",
      "[CV] END nb__alpha=0.7, nb__class_prior=0.3, nb__fit_prior=False; total time=   0.0s\n",
      "[CV] END nb__alpha=0.7, nb__class_prior=0.4, nb__fit_prior=True; total time=   0.0s\n",
      "[CV] END nb__alpha=0.7, nb__class_prior=0.4, nb__fit_prior=True; total time=   0.0s\n",
      "[CV] END nb__alpha=0.7, nb__class_prior=0.4, nb__fit_prior=True; total time=   0.0s\n",
      "[CV] END nb__alpha=0.7, nb__class_prior=0.4, nb__fit_prior=False; total time=   0.0s\n",
      "[CV] END nb__alpha=0.7, nb__class_prior=0.4, nb__fit_prior=False; total time=   0.0s\n",
      "[CV] END nb__alpha=0.7, nb__class_prior=0.4, nb__fit_prior=False; total time=   0.0s\n",
      "[CV] END nb__alpha=0.7, nb__class_prior=0.5, nb__fit_prior=True; total time=   0.0s\n",
      "[CV] END nb__alpha=0.7, nb__class_prior=0.5, nb__fit_prior=True; total time=   0.0s\n",
      "[CV] END nb__alpha=0.7, nb__class_prior=0.5, nb__fit_prior=True; total time=   0.0s\n",
      "[CV] END nb__alpha=0.7, nb__class_prior=0.5, nb__fit_prior=False; total time=   0.0s\n",
      "[CV] END nb__alpha=0.7, nb__class_prior=0.5, nb__fit_prior=False; total time=   0.0s\n",
      "[CV] END nb__alpha=0.7, nb__class_prior=0.5, nb__fit_prior=False; total time=   0.0s\n",
      "[CV] END nb__alpha=0.7, nb__class_prior=0.7, nb__fit_prior=True; total time=   0.0s\n",
      "[CV] END nb__alpha=0.7, nb__class_prior=0.7, nb__fit_prior=True; total time=   0.0s\n",
      "[CV] END nb__alpha=0.7, nb__class_prior=0.7, nb__fit_prior=True; total time=   0.0s\n",
      "[CV] END nb__alpha=0.7, nb__class_prior=0.7, nb__fit_prior=False; total time=   0.0s\n",
      "[CV] END nb__alpha=0.7, nb__class_prior=0.7, nb__fit_prior=False; total time=   0.0s\n",
      "[CV] END nb__alpha=0.7, nb__class_prior=0.7, nb__fit_prior=False; total time=   0.0s\n",
      "[CV] END nb__alpha=0.7, nb__class_prior=1.0, nb__fit_prior=True; total time=   0.0s\n",
      "[CV] END nb__alpha=0.7, nb__class_prior=1.0, nb__fit_prior=True; total time=   0.0s\n",
      "[CV] END nb__alpha=0.7, nb__class_prior=1.0, nb__fit_prior=True; total time=   0.0s\n",
      "[CV] END nb__alpha=0.7, nb__class_prior=1.0, nb__fit_prior=False; total time=   0.0s\n",
      "[CV] END nb__alpha=0.7, nb__class_prior=1.0, nb__fit_prior=False; total time=   0.0s\n",
      "[CV] END nb__alpha=0.7, nb__class_prior=1.0, nb__fit_prior=False; total time=   0.0s\n",
      "[CV] END nb__alpha=0.8, nb__class_prior=None, nb__fit_prior=True; total time=   0.0s\n",
      "[CV] END nb__alpha=0.8, nb__class_prior=None, nb__fit_prior=True; total time=   0.0s\n",
      "[CV] END nb__alpha=0.8, nb__class_prior=None, nb__fit_prior=True; total time=   0.0s\n",
      "[CV] END nb__alpha=0.8, nb__class_prior=None, nb__fit_prior=False; total time=   0.0s\n",
      "[CV] END nb__alpha=0.8, nb__class_prior=None, nb__fit_prior=False; total time=   0.0s\n",
      "[CV] END nb__alpha=0.8, nb__class_prior=None, nb__fit_prior=False; total time=   0.0s\n",
      "[CV] END nb__alpha=0.8, nb__class_prior=0.2, nb__fit_prior=True; total time=   0.0s\n",
      "[CV] END nb__alpha=0.8, nb__class_prior=0.2, nb__fit_prior=True; total time=   0.0s\n",
      "[CV] END nb__alpha=0.8, nb__class_prior=0.2, nb__fit_prior=True; total time=   0.0s\n",
      "[CV] END nb__alpha=0.8, nb__class_prior=0.2, nb__fit_prior=False; total time=   0.0s\n",
      "[CV] END nb__alpha=0.8, nb__class_prior=0.2, nb__fit_prior=False; total time=   0.0s\n",
      "[CV] END nb__alpha=0.8, nb__class_prior=0.2, nb__fit_prior=False; total time=   0.0s\n",
      "[CV] END nb__alpha=0.8, nb__class_prior=0.3, nb__fit_prior=True; total time=   0.0s\n",
      "[CV] END nb__alpha=0.8, nb__class_prior=0.3, nb__fit_prior=True; total time=   0.0s\n",
      "[CV] END nb__alpha=0.8, nb__class_prior=0.3, nb__fit_prior=True; total time=   0.0s\n",
      "[CV] END nb__alpha=0.8, nb__class_prior=0.3, nb__fit_prior=False; total time=   0.0s\n",
      "[CV] END nb__alpha=0.8, nb__class_prior=0.3, nb__fit_prior=False; total time=   0.0s\n",
      "[CV] END nb__alpha=0.8, nb__class_prior=0.3, nb__fit_prior=False; total time=   0.0s\n",
      "[CV] END nb__alpha=0.8, nb__class_prior=0.4, nb__fit_prior=True; total time=   0.0s\n",
      "[CV] END nb__alpha=0.8, nb__class_prior=0.4, nb__fit_prior=True; total time=   0.0s\n",
      "[CV] END nb__alpha=0.8, nb__class_prior=0.4, nb__fit_prior=True; total time=   0.0s\n",
      "[CV] END nb__alpha=0.8, nb__class_prior=0.4, nb__fit_prior=False; total time=   0.0s\n",
      "[CV] END nb__alpha=0.8, nb__class_prior=0.4, nb__fit_prior=False; total time=   0.0s\n",
      "[CV] END nb__alpha=0.8, nb__class_prior=0.4, nb__fit_prior=False; total time=   0.0s\n",
      "[CV] END nb__alpha=0.8, nb__class_prior=0.5, nb__fit_prior=True; total time=   0.0s\n",
      "[CV] END nb__alpha=0.8, nb__class_prior=0.5, nb__fit_prior=True; total time=   0.0s\n",
      "[CV] END nb__alpha=0.8, nb__class_prior=0.5, nb__fit_prior=True; total time=   0.0s\n",
      "[CV] END nb__alpha=0.8, nb__class_prior=0.5, nb__fit_prior=False; total time=   0.0s\n",
      "[CV] END nb__alpha=0.8, nb__class_prior=0.5, nb__fit_prior=False; total time=   0.0s\n",
      "[CV] END nb__alpha=0.8, nb__class_prior=0.5, nb__fit_prior=False; total time=   0.0s\n",
      "[CV] END nb__alpha=0.8, nb__class_prior=0.7, nb__fit_prior=True; total time=   0.0s\n",
      "[CV] END nb__alpha=0.8, nb__class_prior=0.7, nb__fit_prior=True; total time=   0.0s\n",
      "[CV] END nb__alpha=0.8, nb__class_prior=0.7, nb__fit_prior=True; total time=   0.0s\n",
      "[CV] END nb__alpha=0.8, nb__class_prior=0.7, nb__fit_prior=False; total time=   0.0s\n",
      "[CV] END nb__alpha=0.8, nb__class_prior=0.7, nb__fit_prior=False; total time=   0.0s\n",
      "[CV] END nb__alpha=0.8, nb__class_prior=0.7, nb__fit_prior=False; total time=   0.0s\n",
      "[CV] END nb__alpha=0.8, nb__class_prior=1.0, nb__fit_prior=True; total time=   0.0s\n",
      "[CV] END nb__alpha=0.8, nb__class_prior=1.0, nb__fit_prior=True; total time=   0.0s\n",
      "[CV] END nb__alpha=0.8, nb__class_prior=1.0, nb__fit_prior=True; total time=   0.0s\n",
      "[CV] END nb__alpha=0.8, nb__class_prior=1.0, nb__fit_prior=False; total time=   0.0s\n",
      "[CV] END nb__alpha=0.8, nb__class_prior=1.0, nb__fit_prior=False; total time=   0.0s\n",
      "[CV] END nb__alpha=0.8, nb__class_prior=1.0, nb__fit_prior=False; total time=   0.0s\n",
      "[CV] END nb__alpha=1.0, nb__class_prior=None, nb__fit_prior=True; total time=   0.0s\n",
      "[CV] END nb__alpha=1.0, nb__class_prior=None, nb__fit_prior=True; total time=   0.0s\n",
      "[CV] END nb__alpha=1.0, nb__class_prior=None, nb__fit_prior=True; total time=   0.0s\n",
      "[CV] END nb__alpha=1.0, nb__class_prior=None, nb__fit_prior=False; total time=   0.0s\n",
      "[CV] END nb__alpha=1.0, nb__class_prior=None, nb__fit_prior=False; total time=   0.0s\n",
      "[CV] END nb__alpha=1.0, nb__class_prior=None, nb__fit_prior=False; total time=   0.0s\n",
      "[CV] END nb__alpha=1.0, nb__class_prior=0.2, nb__fit_prior=True; total time=   0.0s\n",
      "[CV] END nb__alpha=1.0, nb__class_prior=0.2, nb__fit_prior=True; total time=   0.0s\n",
      "[CV] END nb__alpha=1.0, nb__class_prior=0.2, nb__fit_prior=True; total time=   0.0s\n",
      "[CV] END nb__alpha=1.0, nb__class_prior=0.2, nb__fit_prior=False; total time=   0.0s\n",
      "[CV] END nb__alpha=1.0, nb__class_prior=0.2, nb__fit_prior=False; total time=   0.0s\n",
      "[CV] END nb__alpha=1.0, nb__class_prior=0.2, nb__fit_prior=False; total time=   0.0s\n",
      "[CV] END nb__alpha=1.0, nb__class_prior=0.3, nb__fit_prior=True; total time=   0.0s\n",
      "[CV] END nb__alpha=1.0, nb__class_prior=0.3, nb__fit_prior=True; total time=   0.0s\n",
      "[CV] END nb__alpha=1.0, nb__class_prior=0.3, nb__fit_prior=True; total time=   0.0s\n",
      "[CV] END nb__alpha=1.0, nb__class_prior=0.3, nb__fit_prior=False; total time=   0.0s\n",
      "[CV] END nb__alpha=1.0, nb__class_prior=0.3, nb__fit_prior=False; total time=   0.0s\n",
      "[CV] END nb__alpha=1.0, nb__class_prior=0.3, nb__fit_prior=False; total time=   0.0s\n",
      "[CV] END nb__alpha=1.0, nb__class_prior=0.4, nb__fit_prior=True; total time=   0.0s\n",
      "[CV] END nb__alpha=1.0, nb__class_prior=0.4, nb__fit_prior=True; total time=   0.0s\n",
      "[CV] END nb__alpha=1.0, nb__class_prior=0.4, nb__fit_prior=True; total time=   0.0s\n",
      "[CV] END nb__alpha=1.0, nb__class_prior=0.4, nb__fit_prior=False; total time=   0.0s\n",
      "[CV] END nb__alpha=1.0, nb__class_prior=0.4, nb__fit_prior=False; total time=   0.0s\n",
      "[CV] END nb__alpha=1.0, nb__class_prior=0.4, nb__fit_prior=False; total time=   0.0s\n",
      "[CV] END nb__alpha=1.0, nb__class_prior=0.5, nb__fit_prior=True; total time=   0.0s\n",
      "[CV] END nb__alpha=1.0, nb__class_prior=0.5, nb__fit_prior=True; total time=   0.0s\n",
      "[CV] END nb__alpha=1.0, nb__class_prior=0.5, nb__fit_prior=True; total time=   0.0s\n",
      "[CV] END nb__alpha=1.0, nb__class_prior=0.5, nb__fit_prior=False; total time=   0.0s\n",
      "[CV] END nb__alpha=1.0, nb__class_prior=0.5, nb__fit_prior=False; total time=   0.0s\n",
      "[CV] END nb__alpha=1.0, nb__class_prior=0.5, nb__fit_prior=False; total time=   0.0s\n",
      "[CV] END nb__alpha=1.0, nb__class_prior=0.7, nb__fit_prior=True; total time=   0.0s\n",
      "[CV] END nb__alpha=1.0, nb__class_prior=0.7, nb__fit_prior=True; total time=   0.0s\n",
      "[CV] END nb__alpha=1.0, nb__class_prior=0.7, nb__fit_prior=True; total time=   0.0s\n",
      "[CV] END nb__alpha=1.0, nb__class_prior=0.7, nb__fit_prior=False; total time=   0.0s\n",
      "[CV] END nb__alpha=1.0, nb__class_prior=0.7, nb__fit_prior=False; total time=   0.0s\n",
      "[CV] END nb__alpha=1.0, nb__class_prior=0.7, nb__fit_prior=False; total time=   0.0s\n",
      "[CV] END nb__alpha=1.0, nb__class_prior=1.0, nb__fit_prior=True; total time=   0.0s\n",
      "[CV] END nb__alpha=1.0, nb__class_prior=1.0, nb__fit_prior=True; total time=   0.0s\n",
      "[CV] END nb__alpha=1.0, nb__class_prior=1.0, nb__fit_prior=True; total time=   0.0s\n",
      "[CV] END nb__alpha=1.0, nb__class_prior=1.0, nb__fit_prior=False; total time=   0.0s\n",
      "[CV] END nb__alpha=1.0, nb__class_prior=1.0, nb__fit_prior=False; total time=   0.0s\n",
      "[CV] END nb__alpha=1.0, nb__class_prior=1.0, nb__fit_prior=False; total time=   0.0s\n"
     ]
    },
    {
     "data": {
      "text/html": [
       "<style>#sk-container-id-3 {color: black;background-color: white;}#sk-container-id-3 pre{padding: 0;}#sk-container-id-3 div.sk-toggleable {background-color: white;}#sk-container-id-3 label.sk-toggleable__label {cursor: pointer;display: block;width: 100%;margin-bottom: 0;padding: 0.3em;box-sizing: border-box;text-align: center;}#sk-container-id-3 label.sk-toggleable__label-arrow:before {content: \"▸\";float: left;margin-right: 0.25em;color: #696969;}#sk-container-id-3 label.sk-toggleable__label-arrow:hover:before {color: black;}#sk-container-id-3 div.sk-estimator:hover label.sk-toggleable__label-arrow:before {color: black;}#sk-container-id-3 div.sk-toggleable__content {max-height: 0;max-width: 0;overflow: hidden;text-align: left;background-color: #f0f8ff;}#sk-container-id-3 div.sk-toggleable__content pre {margin: 0.2em;color: black;border-radius: 0.25em;background-color: #f0f8ff;}#sk-container-id-3 input.sk-toggleable__control:checked~div.sk-toggleable__content {max-height: 200px;max-width: 100%;overflow: auto;}#sk-container-id-3 input.sk-toggleable__control:checked~label.sk-toggleable__label-arrow:before {content: \"▾\";}#sk-container-id-3 div.sk-estimator input.sk-toggleable__control:checked~label.sk-toggleable__label {background-color: #d4ebff;}#sk-container-id-3 div.sk-label input.sk-toggleable__control:checked~label.sk-toggleable__label {background-color: #d4ebff;}#sk-container-id-3 input.sk-hidden--visually {border: 0;clip: rect(1px 1px 1px 1px);clip: rect(1px, 1px, 1px, 1px);height: 1px;margin: -1px;overflow: hidden;padding: 0;position: absolute;width: 1px;}#sk-container-id-3 div.sk-estimator {font-family: monospace;background-color: #f0f8ff;border: 1px dotted black;border-radius: 0.25em;box-sizing: border-box;margin-bottom: 0.5em;}#sk-container-id-3 div.sk-estimator:hover {background-color: #d4ebff;}#sk-container-id-3 div.sk-parallel-item::after {content: \"\";width: 100%;border-bottom: 1px solid gray;flex-grow: 1;}#sk-container-id-3 div.sk-label:hover label.sk-toggleable__label {background-color: #d4ebff;}#sk-container-id-3 div.sk-serial::before {content: \"\";position: absolute;border-left: 1px solid gray;box-sizing: border-box;top: 0;bottom: 0;left: 50%;z-index: 0;}#sk-container-id-3 div.sk-serial {display: flex;flex-direction: column;align-items: center;background-color: white;padding-right: 0.2em;padding-left: 0.2em;position: relative;}#sk-container-id-3 div.sk-item {position: relative;z-index: 1;}#sk-container-id-3 div.sk-parallel {display: flex;align-items: stretch;justify-content: center;background-color: white;position: relative;}#sk-container-id-3 div.sk-item::before, #sk-container-id-3 div.sk-parallel-item::before {content: \"\";position: absolute;border-left: 1px solid gray;box-sizing: border-box;top: 0;bottom: 0;left: 50%;z-index: -1;}#sk-container-id-3 div.sk-parallel-item {display: flex;flex-direction: column;z-index: 1;position: relative;background-color: white;}#sk-container-id-3 div.sk-parallel-item:first-child::after {align-self: flex-end;width: 50%;}#sk-container-id-3 div.sk-parallel-item:last-child::after {align-self: flex-start;width: 50%;}#sk-container-id-3 div.sk-parallel-item:only-child::after {width: 0;}#sk-container-id-3 div.sk-dashed-wrapped {border: 1px dashed gray;margin: 0 0.4em 0.5em 0.4em;box-sizing: border-box;padding-bottom: 0.4em;background-color: white;}#sk-container-id-3 div.sk-label label {font-family: monospace;font-weight: bold;display: inline-block;line-height: 1.2em;}#sk-container-id-3 div.sk-label-container {text-align: center;}#sk-container-id-3 div.sk-container {/* jupyter's `normalize.less` sets `[hidden] { display: none; }` but bootstrap.min.css set `[hidden] { display: none !important; }` so we also need the `!important` here to be able to override the default hidden behavior on the sphinx rendered scikit-learn.org. See: https://github.com/scikit-learn/scikit-learn/issues/21755 */display: inline-block !important;position: relative;}#sk-container-id-3 div.sk-text-repr-fallback {display: none;}</style><div id=\"sk-container-id-3\" class=\"sk-top-container\"><div class=\"sk-text-repr-fallback\"><pre>GridSearchCV(cv=3,\n",
       "             estimator=Pipeline(steps=[(&#x27;tfidf&#x27;, TfidfVectorizer()),\n",
       "                                       (&#x27;nb&#x27;, MultinomialNB())]),\n",
       "             param_grid={&#x27;nb__alpha&#x27;: [0.1, 0.3, 0.5, 0.6, 0.7, 0.8, 1.0],\n",
       "                         &#x27;nb__class_prior&#x27;: [None, 0.2, 0.3, 0.4, 0.5, 0.7,\n",
       "                                             1.0],\n",
       "                         &#x27;nb__fit_prior&#x27;: [True, False]},\n",
       "             verbose=2)</pre><b>In a Jupyter environment, please rerun this cell to show the HTML representation or trust the notebook. <br />On GitHub, the HTML representation is unable to render, please try loading this page with nbviewer.org.</b></div><div class=\"sk-container\" hidden><div class=\"sk-item sk-dashed-wrapped\"><div class=\"sk-label-container\"><div class=\"sk-label sk-toggleable\"><input class=\"sk-toggleable__control sk-hidden--visually\" id=\"sk-estimator-id-8\" type=\"checkbox\" ><label for=\"sk-estimator-id-8\" class=\"sk-toggleable__label sk-toggleable__label-arrow\">GridSearchCV</label><div class=\"sk-toggleable__content\"><pre>GridSearchCV(cv=3,\n",
       "             estimator=Pipeline(steps=[(&#x27;tfidf&#x27;, TfidfVectorizer()),\n",
       "                                       (&#x27;nb&#x27;, MultinomialNB())]),\n",
       "             param_grid={&#x27;nb__alpha&#x27;: [0.1, 0.3, 0.5, 0.6, 0.7, 0.8, 1.0],\n",
       "                         &#x27;nb__class_prior&#x27;: [None, 0.2, 0.3, 0.4, 0.5, 0.7,\n",
       "                                             1.0],\n",
       "                         &#x27;nb__fit_prior&#x27;: [True, False]},\n",
       "             verbose=2)</pre></div></div></div><div class=\"sk-parallel\"><div class=\"sk-parallel-item\"><div class=\"sk-item\"><div class=\"sk-label-container\"><div class=\"sk-label sk-toggleable\"><input class=\"sk-toggleable__control sk-hidden--visually\" id=\"sk-estimator-id-9\" type=\"checkbox\" ><label for=\"sk-estimator-id-9\" class=\"sk-toggleable__label sk-toggleable__label-arrow\">estimator: Pipeline</label><div class=\"sk-toggleable__content\"><pre>Pipeline(steps=[(&#x27;tfidf&#x27;, TfidfVectorizer()), (&#x27;nb&#x27;, MultinomialNB())])</pre></div></div></div><div class=\"sk-serial\"><div class=\"sk-item\"><div class=\"sk-serial\"><div class=\"sk-item\"><div class=\"sk-estimator sk-toggleable\"><input class=\"sk-toggleable__control sk-hidden--visually\" id=\"sk-estimator-id-10\" type=\"checkbox\" ><label for=\"sk-estimator-id-10\" class=\"sk-toggleable__label sk-toggleable__label-arrow\">TfidfVectorizer</label><div class=\"sk-toggleable__content\"><pre>TfidfVectorizer()</pre></div></div></div><div class=\"sk-item\"><div class=\"sk-estimator sk-toggleable\"><input class=\"sk-toggleable__control sk-hidden--visually\" id=\"sk-estimator-id-11\" type=\"checkbox\" ><label for=\"sk-estimator-id-11\" class=\"sk-toggleable__label sk-toggleable__label-arrow\">MultinomialNB</label><div class=\"sk-toggleable__content\"><pre>MultinomialNB()</pre></div></div></div></div></div></div></div></div></div></div></div></div>"
      ],
      "text/plain": [
       "GridSearchCV(cv=3,\n",
       "             estimator=Pipeline(steps=[('tfidf', TfidfVectorizer()),\n",
       "                                       ('nb', MultinomialNB())]),\n",
       "             param_grid={'nb__alpha': [0.1, 0.3, 0.5, 0.6, 0.7, 0.8, 1.0],\n",
       "                         'nb__class_prior': [None, 0.2, 0.3, 0.4, 0.5, 0.7,\n",
       "                                             1.0],\n",
       "                         'nb__fit_prior': [True, False]},\n",
       "             verbose=2)"
      ]
     },
     "execution_count": 165,
     "metadata": {},
     "output_type": "execute_result"
    }
   ],
   "source": [
    "full_model.fit(X_train, y_train)  "
   ]
  },
  {
   "cell_type": "code",
   "execution_count": 149,
   "id": "666dc5e4-7cdf-470d-a8f0-715b639a6857",
   "metadata": {},
   "outputs": [
    {
     "data": {
      "text/plain": [
       "{'nb__alpha': 0.7, 'nb__class_prior': None, 'nb__fit_prior': True}"
      ]
     },
     "execution_count": 149,
     "metadata": {},
     "output_type": "execute_result"
    }
   ],
   "source": [
    "full_model.best_params_"
   ]
  },
  {
   "cell_type": "code",
   "execution_count": 150,
   "id": "14096103-a580-47bc-b261-dbc034f8c12e",
   "metadata": {},
   "outputs": [],
   "source": [
    "from sklearn.metrics import classification_report,plot_confusion_matrix"
   ]
  },
  {
   "cell_type": "code",
   "execution_count": 155,
   "id": "bddcc972-03b4-4a68-a817-79b0122be456",
   "metadata": {},
   "outputs": [
    {
     "data": {
      "text/html": [
       "<style>#sk-container-id-2 {color: black;background-color: white;}#sk-container-id-2 pre{padding: 0;}#sk-container-id-2 div.sk-toggleable {background-color: white;}#sk-container-id-2 label.sk-toggleable__label {cursor: pointer;display: block;width: 100%;margin-bottom: 0;padding: 0.3em;box-sizing: border-box;text-align: center;}#sk-container-id-2 label.sk-toggleable__label-arrow:before {content: \"▸\";float: left;margin-right: 0.25em;color: #696969;}#sk-container-id-2 label.sk-toggleable__label-arrow:hover:before {color: black;}#sk-container-id-2 div.sk-estimator:hover label.sk-toggleable__label-arrow:before {color: black;}#sk-container-id-2 div.sk-toggleable__content {max-height: 0;max-width: 0;overflow: hidden;text-align: left;background-color: #f0f8ff;}#sk-container-id-2 div.sk-toggleable__content pre {margin: 0.2em;color: black;border-radius: 0.25em;background-color: #f0f8ff;}#sk-container-id-2 input.sk-toggleable__control:checked~div.sk-toggleable__content {max-height: 200px;max-width: 100%;overflow: auto;}#sk-container-id-2 input.sk-toggleable__control:checked~label.sk-toggleable__label-arrow:before {content: \"▾\";}#sk-container-id-2 div.sk-estimator input.sk-toggleable__control:checked~label.sk-toggleable__label {background-color: #d4ebff;}#sk-container-id-2 div.sk-label input.sk-toggleable__control:checked~label.sk-toggleable__label {background-color: #d4ebff;}#sk-container-id-2 input.sk-hidden--visually {border: 0;clip: rect(1px 1px 1px 1px);clip: rect(1px, 1px, 1px, 1px);height: 1px;margin: -1px;overflow: hidden;padding: 0;position: absolute;width: 1px;}#sk-container-id-2 div.sk-estimator {font-family: monospace;background-color: #f0f8ff;border: 1px dotted black;border-radius: 0.25em;box-sizing: border-box;margin-bottom: 0.5em;}#sk-container-id-2 div.sk-estimator:hover {background-color: #d4ebff;}#sk-container-id-2 div.sk-parallel-item::after {content: \"\";width: 100%;border-bottom: 1px solid gray;flex-grow: 1;}#sk-container-id-2 div.sk-label:hover label.sk-toggleable__label {background-color: #d4ebff;}#sk-container-id-2 div.sk-serial::before {content: \"\";position: absolute;border-left: 1px solid gray;box-sizing: border-box;top: 0;bottom: 0;left: 50%;z-index: 0;}#sk-container-id-2 div.sk-serial {display: flex;flex-direction: column;align-items: center;background-color: white;padding-right: 0.2em;padding-left: 0.2em;position: relative;}#sk-container-id-2 div.sk-item {position: relative;z-index: 1;}#sk-container-id-2 div.sk-parallel {display: flex;align-items: stretch;justify-content: center;background-color: white;position: relative;}#sk-container-id-2 div.sk-item::before, #sk-container-id-2 div.sk-parallel-item::before {content: \"\";position: absolute;border-left: 1px solid gray;box-sizing: border-box;top: 0;bottom: 0;left: 50%;z-index: -1;}#sk-container-id-2 div.sk-parallel-item {display: flex;flex-direction: column;z-index: 1;position: relative;background-color: white;}#sk-container-id-2 div.sk-parallel-item:first-child::after {align-self: flex-end;width: 50%;}#sk-container-id-2 div.sk-parallel-item:last-child::after {align-self: flex-start;width: 50%;}#sk-container-id-2 div.sk-parallel-item:only-child::after {width: 0;}#sk-container-id-2 div.sk-dashed-wrapped {border: 1px dashed gray;margin: 0 0.4em 0.5em 0.4em;box-sizing: border-box;padding-bottom: 0.4em;background-color: white;}#sk-container-id-2 div.sk-label label {font-family: monospace;font-weight: bold;display: inline-block;line-height: 1.2em;}#sk-container-id-2 div.sk-label-container {text-align: center;}#sk-container-id-2 div.sk-container {/* jupyter's `normalize.less` sets `[hidden] { display: none; }` but bootstrap.min.css set `[hidden] { display: none !important; }` so we also need the `!important` here to be able to override the default hidden behavior on the sphinx rendered scikit-learn.org. See: https://github.com/scikit-learn/scikit-learn/issues/21755 */display: inline-block !important;position: relative;}#sk-container-id-2 div.sk-text-repr-fallback {display: none;}</style><div id=\"sk-container-id-2\" class=\"sk-top-container\"><div class=\"sk-text-repr-fallback\"><pre>Pipeline(steps=[(&#x27;tfidf&#x27;, TfidfVectorizer()), (&#x27;nb&#x27;, MultinomialNB())])</pre><b>In a Jupyter environment, please rerun this cell to show the HTML representation or trust the notebook. <br />On GitHub, the HTML representation is unable to render, please try loading this page with nbviewer.org.</b></div><div class=\"sk-container\" hidden><div class=\"sk-item sk-dashed-wrapped\"><div class=\"sk-label-container\"><div class=\"sk-label sk-toggleable\"><input class=\"sk-toggleable__control sk-hidden--visually\" id=\"sk-estimator-id-5\" type=\"checkbox\" ><label for=\"sk-estimator-id-5\" class=\"sk-toggleable__label sk-toggleable__label-arrow\">Pipeline</label><div class=\"sk-toggleable__content\"><pre>Pipeline(steps=[(&#x27;tfidf&#x27;, TfidfVectorizer()), (&#x27;nb&#x27;, MultinomialNB())])</pre></div></div></div><div class=\"sk-serial\"><div class=\"sk-item\"><div class=\"sk-estimator sk-toggleable\"><input class=\"sk-toggleable__control sk-hidden--visually\" id=\"sk-estimator-id-6\" type=\"checkbox\" ><label for=\"sk-estimator-id-6\" class=\"sk-toggleable__label sk-toggleable__label-arrow\">TfidfVectorizer</label><div class=\"sk-toggleable__content\"><pre>TfidfVectorizer()</pre></div></div></div><div class=\"sk-item\"><div class=\"sk-estimator sk-toggleable\"><input class=\"sk-toggleable__control sk-hidden--visually\" id=\"sk-estimator-id-7\" type=\"checkbox\" ><label for=\"sk-estimator-id-7\" class=\"sk-toggleable__label sk-toggleable__label-arrow\">MultinomialNB</label><div class=\"sk-toggleable__content\"><pre>MultinomialNB()</pre></div></div></div></div></div></div></div>"
      ],
      "text/plain": [
       "Pipeline(steps=[('tfidf', TfidfVectorizer()), ('nb', MultinomialNB())])"
      ]
     },
     "execution_count": 155,
     "metadata": {},
     "output_type": "execute_result"
    }
   ],
   "source": [
    "pipe"
   ]
  },
  {
   "cell_type": "code",
   "execution_count": 154,
   "id": "fefda0c0-263e-481b-93d0-f14feb8f3d32",
   "metadata": {},
   "outputs": [
    {
     "ename": "AttributeError",
     "evalue": "'numpy.ndarray' object has no attribute 'lower'",
     "output_type": "error",
     "traceback": [
      "\u001b[1;31m---------------------------------------------------------------------------\u001b[0m",
      "\u001b[1;31mAttributeError\u001b[0m                            Traceback (most recent call last)",
      "Cell \u001b[1;32mIn [154], line 1\u001b[0m\n\u001b[1;32m----> 1\u001b[0m preds \u001b[38;5;241m=\u001b[39m \u001b[43mfull_model\u001b[49m\u001b[38;5;241;43m.\u001b[39;49m\u001b[43mpredict\u001b[49m\u001b[43m(\u001b[49m\u001b[43mX_test_tfidf\u001b[49m\u001b[43m)\u001b[49m\n",
      "File \u001b[1;32m~\\OneDrive\\Desktop\\ML\\venv\\lib\\site-packages\\sklearn\\model_selection\\_search.py:500\u001b[0m, in \u001b[0;36mBaseSearchCV.predict\u001b[1;34m(self, X)\u001b[0m\n\u001b[0;32m    482\u001b[0m \u001b[38;5;124;03m\"\"\"Call predict on the estimator with the best found parameters.\u001b[39;00m\n\u001b[0;32m    483\u001b[0m \n\u001b[0;32m    484\u001b[0m \u001b[38;5;124;03mOnly available if ``refit=True`` and the underlying estimator supports\u001b[39;00m\n\u001b[1;32m   (...)\u001b[0m\n\u001b[0;32m    497\u001b[0m \u001b[38;5;124;03m    the best found parameters.\u001b[39;00m\n\u001b[0;32m    498\u001b[0m \u001b[38;5;124;03m\"\"\"\u001b[39;00m\n\u001b[0;32m    499\u001b[0m check_is_fitted(\u001b[38;5;28mself\u001b[39m)\n\u001b[1;32m--> 500\u001b[0m \u001b[38;5;28;01mreturn\u001b[39;00m \u001b[38;5;28;43mself\u001b[39;49m\u001b[38;5;241;43m.\u001b[39;49m\u001b[43mbest_estimator_\u001b[49m\u001b[38;5;241;43m.\u001b[39;49m\u001b[43mpredict\u001b[49m\u001b[43m(\u001b[49m\u001b[43mX\u001b[49m\u001b[43m)\u001b[49m\n",
      "File \u001b[1;32m~\\OneDrive\\Desktop\\ML\\venv\\lib\\site-packages\\sklearn\\pipeline.py:457\u001b[0m, in \u001b[0;36mPipeline.predict\u001b[1;34m(self, X, **predict_params)\u001b[0m\n\u001b[0;32m    455\u001b[0m Xt \u001b[38;5;241m=\u001b[39m X\n\u001b[0;32m    456\u001b[0m \u001b[38;5;28;01mfor\u001b[39;00m _, name, transform \u001b[38;5;129;01min\u001b[39;00m \u001b[38;5;28mself\u001b[39m\u001b[38;5;241m.\u001b[39m_iter(with_final\u001b[38;5;241m=\u001b[39m\u001b[38;5;28;01mFalse\u001b[39;00m):\n\u001b[1;32m--> 457\u001b[0m     Xt \u001b[38;5;241m=\u001b[39m \u001b[43mtransform\u001b[49m\u001b[38;5;241;43m.\u001b[39;49m\u001b[43mtransform\u001b[49m\u001b[43m(\u001b[49m\u001b[43mXt\u001b[49m\u001b[43m)\u001b[49m\n\u001b[0;32m    458\u001b[0m \u001b[38;5;28;01mreturn\u001b[39;00m \u001b[38;5;28mself\u001b[39m\u001b[38;5;241m.\u001b[39msteps[\u001b[38;5;241m-\u001b[39m\u001b[38;5;241m1\u001b[39m][\u001b[38;5;241m1\u001b[39m]\u001b[38;5;241m.\u001b[39mpredict(Xt, \u001b[38;5;241m*\u001b[39m\u001b[38;5;241m*\u001b[39mpredict_params)\n",
      "File \u001b[1;32m~\\OneDrive\\Desktop\\ML\\venv\\lib\\site-packages\\sklearn\\feature_extraction\\text.py:2103\u001b[0m, in \u001b[0;36mTfidfVectorizer.transform\u001b[1;34m(self, raw_documents)\u001b[0m\n\u001b[0;32m   2086\u001b[0m \u001b[38;5;124;03m\"\"\"Transform documents to document-term matrix.\u001b[39;00m\n\u001b[0;32m   2087\u001b[0m \n\u001b[0;32m   2088\u001b[0m \u001b[38;5;124;03mUses the vocabulary and document frequencies (df) learned by fit (or\u001b[39;00m\n\u001b[1;32m   (...)\u001b[0m\n\u001b[0;32m   2099\u001b[0m \u001b[38;5;124;03m    Tf-idf-weighted document-term matrix.\u001b[39;00m\n\u001b[0;32m   2100\u001b[0m \u001b[38;5;124;03m\"\"\"\u001b[39;00m\n\u001b[0;32m   2101\u001b[0m check_is_fitted(\u001b[38;5;28mself\u001b[39m, msg\u001b[38;5;241m=\u001b[39m\u001b[38;5;124m\"\u001b[39m\u001b[38;5;124mThe TF-IDF vectorizer is not fitted\u001b[39m\u001b[38;5;124m\"\u001b[39m)\n\u001b[1;32m-> 2103\u001b[0m X \u001b[38;5;241m=\u001b[39m \u001b[38;5;28;43msuper\u001b[39;49m\u001b[43m(\u001b[49m\u001b[43m)\u001b[49m\u001b[38;5;241;43m.\u001b[39;49m\u001b[43mtransform\u001b[49m\u001b[43m(\u001b[49m\u001b[43mraw_documents\u001b[49m\u001b[43m)\u001b[49m\n\u001b[0;32m   2104\u001b[0m \u001b[38;5;28;01mreturn\u001b[39;00m \u001b[38;5;28mself\u001b[39m\u001b[38;5;241m.\u001b[39m_tfidf\u001b[38;5;241m.\u001b[39mtransform(X, copy\u001b[38;5;241m=\u001b[39m\u001b[38;5;28;01mFalse\u001b[39;00m)\n",
      "File \u001b[1;32m~\\OneDrive\\Desktop\\ML\\venv\\lib\\site-packages\\sklearn\\feature_extraction\\text.py:1387\u001b[0m, in \u001b[0;36mCountVectorizer.transform\u001b[1;34m(self, raw_documents)\u001b[0m\n\u001b[0;32m   1384\u001b[0m \u001b[38;5;28mself\u001b[39m\u001b[38;5;241m.\u001b[39m_check_vocabulary()\n\u001b[0;32m   1386\u001b[0m \u001b[38;5;66;03m# use the same matrix-building strategy as fit_transform\u001b[39;00m\n\u001b[1;32m-> 1387\u001b[0m _, X \u001b[38;5;241m=\u001b[39m \u001b[38;5;28;43mself\u001b[39;49m\u001b[38;5;241;43m.\u001b[39;49m\u001b[43m_count_vocab\u001b[49m\u001b[43m(\u001b[49m\u001b[43mraw_documents\u001b[49m\u001b[43m,\u001b[49m\u001b[43m \u001b[49m\u001b[43mfixed_vocab\u001b[49m\u001b[38;5;241;43m=\u001b[39;49m\u001b[38;5;28;43;01mTrue\u001b[39;49;00m\u001b[43m)\u001b[49m\n\u001b[0;32m   1388\u001b[0m \u001b[38;5;28;01mif\u001b[39;00m \u001b[38;5;28mself\u001b[39m\u001b[38;5;241m.\u001b[39mbinary:\n\u001b[0;32m   1389\u001b[0m     X\u001b[38;5;241m.\u001b[39mdata\u001b[38;5;241m.\u001b[39mfill(\u001b[38;5;241m1\u001b[39m)\n",
      "File \u001b[1;32m~\\OneDrive\\Desktop\\ML\\venv\\lib\\site-packages\\sklearn\\feature_extraction\\text.py:1209\u001b[0m, in \u001b[0;36mCountVectorizer._count_vocab\u001b[1;34m(self, raw_documents, fixed_vocab)\u001b[0m\n\u001b[0;32m   1207\u001b[0m \u001b[38;5;28;01mfor\u001b[39;00m doc \u001b[38;5;129;01min\u001b[39;00m raw_documents:\n\u001b[0;32m   1208\u001b[0m     feature_counter \u001b[38;5;241m=\u001b[39m {}\n\u001b[1;32m-> 1209\u001b[0m     \u001b[38;5;28;01mfor\u001b[39;00m feature \u001b[38;5;129;01min\u001b[39;00m \u001b[43manalyze\u001b[49m\u001b[43m(\u001b[49m\u001b[43mdoc\u001b[49m\u001b[43m)\u001b[49m:\n\u001b[0;32m   1210\u001b[0m         \u001b[38;5;28;01mtry\u001b[39;00m:\n\u001b[0;32m   1211\u001b[0m             feature_idx \u001b[38;5;241m=\u001b[39m vocabulary[feature]\n",
      "File \u001b[1;32m~\\OneDrive\\Desktop\\ML\\venv\\lib\\site-packages\\sklearn\\feature_extraction\\text.py:111\u001b[0m, in \u001b[0;36m_analyze\u001b[1;34m(doc, analyzer, tokenizer, ngrams, preprocessor, decoder, stop_words)\u001b[0m\n\u001b[0;32m    109\u001b[0m \u001b[38;5;28;01melse\u001b[39;00m:\n\u001b[0;32m    110\u001b[0m     \u001b[38;5;28;01mif\u001b[39;00m preprocessor \u001b[38;5;129;01mis\u001b[39;00m \u001b[38;5;129;01mnot\u001b[39;00m \u001b[38;5;28;01mNone\u001b[39;00m:\n\u001b[1;32m--> 111\u001b[0m         doc \u001b[38;5;241m=\u001b[39m \u001b[43mpreprocessor\u001b[49m\u001b[43m(\u001b[49m\u001b[43mdoc\u001b[49m\u001b[43m)\u001b[49m\n\u001b[0;32m    112\u001b[0m     \u001b[38;5;28;01mif\u001b[39;00m tokenizer \u001b[38;5;129;01mis\u001b[39;00m \u001b[38;5;129;01mnot\u001b[39;00m \u001b[38;5;28;01mNone\u001b[39;00m:\n\u001b[0;32m    113\u001b[0m         doc \u001b[38;5;241m=\u001b[39m tokenizer(doc)\n",
      "File \u001b[1;32m~\\OneDrive\\Desktop\\ML\\venv\\lib\\site-packages\\sklearn\\feature_extraction\\text.py:69\u001b[0m, in \u001b[0;36m_preprocess\u001b[1;34m(doc, accent_function, lower)\u001b[0m\n\u001b[0;32m     50\u001b[0m \u001b[38;5;124;03m\"\"\"Chain together an optional series of text preprocessing steps to\u001b[39;00m\n\u001b[0;32m     51\u001b[0m \u001b[38;5;124;03mapply to a document.\u001b[39;00m\n\u001b[0;32m     52\u001b[0m \n\u001b[1;32m   (...)\u001b[0m\n\u001b[0;32m     66\u001b[0m \u001b[38;5;124;03m    preprocessed string\u001b[39;00m\n\u001b[0;32m     67\u001b[0m \u001b[38;5;124;03m\"\"\"\u001b[39;00m\n\u001b[0;32m     68\u001b[0m \u001b[38;5;28;01mif\u001b[39;00m lower:\n\u001b[1;32m---> 69\u001b[0m     doc \u001b[38;5;241m=\u001b[39m \u001b[43mdoc\u001b[49m\u001b[38;5;241;43m.\u001b[39;49m\u001b[43mlower\u001b[49m()\n\u001b[0;32m     70\u001b[0m \u001b[38;5;28;01mif\u001b[39;00m accent_function \u001b[38;5;129;01mis\u001b[39;00m \u001b[38;5;129;01mnot\u001b[39;00m \u001b[38;5;28;01mNone\u001b[39;00m:\n\u001b[0;32m     71\u001b[0m     doc \u001b[38;5;241m=\u001b[39m accent_function(doc)\n",
      "\u001b[1;31mAttributeError\u001b[0m: 'numpy.ndarray' object has no attribute 'lower'"
     ]
    }
   ],
   "source": [
    "preds = full_model.predict(X_test_tfidf)"
   ]
  },
  {
   "cell_type": "code",
   "execution_count": 156,
   "id": "6b605b3c-c5d6-484b-af5c-855a5bade25f",
   "metadata": {},
   "outputs": [
    {
     "data": {
      "text/plain": [
       "5320    0\n",
       "1025    0\n",
       "4905    1\n",
       "4386    0\n",
       "6617    1\n",
       "       ..\n",
       "644     0\n",
       "3457    1\n",
       "3053    1\n",
       "3102    0\n",
       "1360    1\n",
       "Name: target, Length: 762, dtype: int64"
      ]
     },
     "execution_count": 156,
     "metadata": {},
     "output_type": "execute_result"
    }
   ],
   "source": [
    "y_val"
   ]
  },
  {
   "cell_type": "code",
   "execution_count": 157,
   "id": "f50ecb45-046b-4732-b078-1c52c5da84bf",
   "metadata": {},
   "outputs": [
    {
     "data": {
      "text/plain": [
       "array([0, 0, 1, ..., 1, 1, 1], dtype=int64)"
      ]
     },
     "execution_count": 157,
     "metadata": {},
     "output_type": "execute_result"
    }
   ],
   "source": [
    "preds"
   ]
  },
  {
   "cell_type": "code",
   "execution_count": 153,
   "id": "b37f51f4-06c5-4bd4-a949-4ce211097b57",
   "metadata": {},
   "outputs": [
    {
     "ename": "ValueError",
     "evalue": "Found input variables with inconsistent numbers of samples: [762, 3263]",
     "output_type": "error",
     "traceback": [
      "\u001b[1;31m---------------------------------------------------------------------------\u001b[0m",
      "\u001b[1;31mValueError\u001b[0m                                Traceback (most recent call last)",
      "Cell \u001b[1;32mIn [153], line 1\u001b[0m\n\u001b[1;32m----> 1\u001b[0m \u001b[38;5;28mprint\u001b[39m(\u001b[43mclassification_report\u001b[49m\u001b[43m(\u001b[49m\u001b[43my_val\u001b[49m\u001b[43m,\u001b[49m\u001b[43mpreds\u001b[49m\u001b[43m)\u001b[49m)\n",
      "File \u001b[1;32m~\\OneDrive\\Desktop\\ML\\venv\\lib\\site-packages\\sklearn\\metrics\\_classification.py:2132\u001b[0m, in \u001b[0;36mclassification_report\u001b[1;34m(y_true, y_pred, labels, target_names, sample_weight, digits, output_dict, zero_division)\u001b[0m\n\u001b[0;32m   2017\u001b[0m \u001b[38;5;28;01mdef\u001b[39;00m \u001b[38;5;21mclassification_report\u001b[39m(\n\u001b[0;32m   2018\u001b[0m     y_true,\n\u001b[0;32m   2019\u001b[0m     y_pred,\n\u001b[1;32m   (...)\u001b[0m\n\u001b[0;32m   2026\u001b[0m     zero_division\u001b[38;5;241m=\u001b[39m\u001b[38;5;124m\"\u001b[39m\u001b[38;5;124mwarn\u001b[39m\u001b[38;5;124m\"\u001b[39m,\n\u001b[0;32m   2027\u001b[0m ):\n\u001b[0;32m   2028\u001b[0m     \u001b[38;5;124;03m\"\"\"Build a text report showing the main classification metrics.\u001b[39;00m\n\u001b[0;32m   2029\u001b[0m \n\u001b[0;32m   2030\u001b[0m \u001b[38;5;124;03m    Read more in the :ref:`User Guide <classification_report>`.\u001b[39;00m\n\u001b[1;32m   (...)\u001b[0m\n\u001b[0;32m   2129\u001b[0m \u001b[38;5;124;03m    <BLANKLINE>\u001b[39;00m\n\u001b[0;32m   2130\u001b[0m \u001b[38;5;124;03m    \"\"\"\u001b[39;00m\n\u001b[1;32m-> 2132\u001b[0m     y_type, y_true, y_pred \u001b[38;5;241m=\u001b[39m \u001b[43m_check_targets\u001b[49m\u001b[43m(\u001b[49m\u001b[43my_true\u001b[49m\u001b[43m,\u001b[49m\u001b[43m \u001b[49m\u001b[43my_pred\u001b[49m\u001b[43m)\u001b[49m\n\u001b[0;32m   2134\u001b[0m     \u001b[38;5;28;01mif\u001b[39;00m labels \u001b[38;5;129;01mis\u001b[39;00m \u001b[38;5;28;01mNone\u001b[39;00m:\n\u001b[0;32m   2135\u001b[0m         labels \u001b[38;5;241m=\u001b[39m unique_labels(y_true, y_pred)\n",
      "File \u001b[1;32m~\\OneDrive\\Desktop\\ML\\venv\\lib\\site-packages\\sklearn\\metrics\\_classification.py:84\u001b[0m, in \u001b[0;36m_check_targets\u001b[1;34m(y_true, y_pred)\u001b[0m\n\u001b[0;32m     57\u001b[0m \u001b[38;5;28;01mdef\u001b[39;00m \u001b[38;5;21m_check_targets\u001b[39m(y_true, y_pred):\n\u001b[0;32m     58\u001b[0m     \u001b[38;5;124;03m\"\"\"Check that y_true and y_pred belong to the same classification task.\u001b[39;00m\n\u001b[0;32m     59\u001b[0m \n\u001b[0;32m     60\u001b[0m \u001b[38;5;124;03m    This converts multiclass or binary types to a common shape, and raises a\u001b[39;00m\n\u001b[1;32m   (...)\u001b[0m\n\u001b[0;32m     82\u001b[0m \u001b[38;5;124;03m    y_pred : array or indicator matrix\u001b[39;00m\n\u001b[0;32m     83\u001b[0m \u001b[38;5;124;03m    \"\"\"\u001b[39;00m\n\u001b[1;32m---> 84\u001b[0m     \u001b[43mcheck_consistent_length\u001b[49m\u001b[43m(\u001b[49m\u001b[43my_true\u001b[49m\u001b[43m,\u001b[49m\u001b[43m \u001b[49m\u001b[43my_pred\u001b[49m\u001b[43m)\u001b[49m\n\u001b[0;32m     85\u001b[0m     type_true \u001b[38;5;241m=\u001b[39m type_of_target(y_true, input_name\u001b[38;5;241m=\u001b[39m\u001b[38;5;124m\"\u001b[39m\u001b[38;5;124my_true\u001b[39m\u001b[38;5;124m\"\u001b[39m)\n\u001b[0;32m     86\u001b[0m     type_pred \u001b[38;5;241m=\u001b[39m type_of_target(y_pred, input_name\u001b[38;5;241m=\u001b[39m\u001b[38;5;124m\"\u001b[39m\u001b[38;5;124my_pred\u001b[39m\u001b[38;5;124m\"\u001b[39m)\n",
      "File \u001b[1;32m~\\OneDrive\\Desktop\\ML\\venv\\lib\\site-packages\\sklearn\\utils\\validation.py:387\u001b[0m, in \u001b[0;36mcheck_consistent_length\u001b[1;34m(*arrays)\u001b[0m\n\u001b[0;32m    385\u001b[0m uniques \u001b[38;5;241m=\u001b[39m np\u001b[38;5;241m.\u001b[39munique(lengths)\n\u001b[0;32m    386\u001b[0m \u001b[38;5;28;01mif\u001b[39;00m \u001b[38;5;28mlen\u001b[39m(uniques) \u001b[38;5;241m>\u001b[39m \u001b[38;5;241m1\u001b[39m:\n\u001b[1;32m--> 387\u001b[0m     \u001b[38;5;28;01mraise\u001b[39;00m \u001b[38;5;167;01mValueError\u001b[39;00m(\n\u001b[0;32m    388\u001b[0m         \u001b[38;5;124m\"\u001b[39m\u001b[38;5;124mFound input variables with inconsistent numbers of samples: \u001b[39m\u001b[38;5;132;01m%r\u001b[39;00m\u001b[38;5;124m\"\u001b[39m\n\u001b[0;32m    389\u001b[0m         \u001b[38;5;241m%\u001b[39m [\u001b[38;5;28mint\u001b[39m(l) \u001b[38;5;28;01mfor\u001b[39;00m l \u001b[38;5;129;01min\u001b[39;00m lengths]\n\u001b[0;32m    390\u001b[0m     )\n",
      "\u001b[1;31mValueError\u001b[0m: Found input variables with inconsistent numbers of samples: [762, 3263]"
     ]
    }
   ],
   "source": [
    "print(classification_report(y_val,preds))"
   ]
  },
  {
   "cell_type": "code",
   "execution_count": null,
   "id": "bca88074-f80c-44d7-b182-d6a83da20f4f",
   "metadata": {},
   "outputs": [],
   "source": []
  }
 ],
 "metadata": {
  "kernelspec": {
   "display_name": "Python 3 (ipykernel)",
   "language": "python",
   "name": "python3"
  },
  "language_info": {
   "codemirror_mode": {
    "name": "ipython",
    "version": 3
   },
   "file_extension": ".py",
   "mimetype": "text/x-python",
   "name": "python",
   "nbconvert_exporter": "python",
   "pygments_lexer": "ipython3",
   "version": "3.10.4"
  }
 },
 "nbformat": 4,
 "nbformat_minor": 5
}
